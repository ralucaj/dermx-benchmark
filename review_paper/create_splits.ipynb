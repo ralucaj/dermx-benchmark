{
 "cells": [
  {
   "cell_type": "code",
   "execution_count": 16,
   "id": "679ceb86",
   "metadata": {},
   "outputs": [],
   "source": [
    "import os\n",
    "import pandas as pd\n",
    "import random"
   ]
  },
  {
   "cell_type": "code",
   "execution_count": 13,
   "id": "fcb5547e",
   "metadata": {},
   "outputs": [
    {
     "name": "stdout",
     "output_type": "stream",
     "text": [
      "total 8\r\n",
      "drwxrwxr-x 2 ubuntu ubuntu 4096 Jan 26 10:16 test\r\n",
      "drwxrwxr-x 2 ubuntu ubuntu 4096 Jan 26 10:16 train\r\n"
     ]
    }
   ],
   "source": [
    "!ls -l /home/ubuntu/hot-store/dermx_finetuning/split1/"
   ]
  },
  {
   "cell_type": "code",
   "execution_count": 29,
   "id": "e564faa0",
   "metadata": {},
   "outputs": [],
   "source": [
    "base_path = '/home/ubuntu/hot-store/dermx/all_images/'\n",
    "target_path = '/home/ubuntu/hot-store/dermx_finetuning/split1/'\n",
    "diagnosis_df = pd.read_csv('/home/ubuntu/hot-store/metadata.csv', sep=';')\n",
    "diagnoses = diagnosis_df['diagnosis'].unique()\n",
    "\n",
    "os.mkdir(target_path + 'train')\n",
    "os.mkdir(target_path + 'test')\n",
    "for diagnosis in diagnoses:\n",
    "    os.mkdir(target_path + 'train/' + diagnosis)\n",
    "    os.mkdir(target_path + 'test/' + diagnosis)"
   ]
  },
  {
   "cell_type": "code",
   "execution_count": 30,
   "id": "1c509f68",
   "metadata": {},
   "outputs": [],
   "source": [
    "ratio = 0.5\n",
    "\n",
    "images = os.listdir(base_path)\n",
    "random.shuffle(images)\n",
    "diagnosis_df = pd.read_csv('/home/ubuntu/hot-store/metadata.csv', sep=';')\n",
    "\n",
    "for image in images[:int(len(images) * ratio)]:\n",
    "    diagnosis = diagnosis_df[diagnosis_df['current_filename'] == image]['diagnosis'].values[0]\n",
    "    os.symlink(f'{base_path}{image}', f'{target_path}train/{diagnosis}/{image}')\n",
    "\n",
    "for image in images[int(len(images) * ratio):]:\n",
    "    diagnosis = diagnosis_df[diagnosis_df['current_filename'] == image]['diagnosis'].values[0]\n",
    "    os.symlink(f'{base_path}{image}', f'{target_path}test/{diagnosis}/{image}')\n"
   ]
  },
  {
   "cell_type": "code",
   "execution_count": 32,
   "id": "69d12a64",
   "metadata": {},
   "outputs": [],
   "source": [
    "ratio = 0.5\n",
    "base_path = '/home/ubuntu/hot-store/dermx/all_images/'\n",
    "target_path = '/home/ubuntu/hot-store/dermx_finetuning/split2/'\n",
    "\n",
    "os.mkdir(target_path + 'train')\n",
    "os.mkdir(target_path + 'test')\n",
    "for diagnosis in diagnoses:\n",
    "    os.mkdir(target_path + 'train/' + diagnosis)\n",
    "    os.mkdir(target_path + 'test/' + diagnosis)\n",
    "    \n",
    "images = os.listdir(base_path)\n",
    "random.shuffle(images)\n",
    "diagnosis_df = pd.read_csv('/home/ubuntu/hot-store/metadata.csv', sep=';')\n",
    "\n",
    "for image in images[:int(len(images) * ratio)]:\n",
    "    diagnosis = diagnosis_df[diagnosis_df['current_filename'] == image]['diagnosis'].values[0]\n",
    "    os.symlink(f'{base_path}{image}', f'{target_path}train/{diagnosis}/{image}')\n",
    "\n",
    "for image in images[int(len(images) * ratio):]:\n",
    "    diagnosis = diagnosis_df[diagnosis_df['current_filename'] == image]['diagnosis'].values[0]\n",
    "    os.symlink(f'{base_path}{image}', f'{target_path}test/{diagnosis}/{image}')"
   ]
  },
  {
   "cell_type": "code",
   "execution_count": null,
   "id": "edf183a1",
   "metadata": {},
   "outputs": [],
   "source": []
  }
 ],
 "metadata": {
  "kernelspec": {
   "display_name": "tf2_3",
   "language": "python",
   "name": "tf2_3"
  },
  "language_info": {
   "codemirror_mode": {
    "name": "ipython",
    "version": 3
   },
   "file_extension": ".py",
   "mimetype": "text/x-python",
   "name": "python",
   "nbconvert_exporter": "python",
   "pygments_lexer": "ipython3",
   "version": "3.7.5"
  }
 },
 "nbformat": 4,
 "nbformat_minor": 5
}

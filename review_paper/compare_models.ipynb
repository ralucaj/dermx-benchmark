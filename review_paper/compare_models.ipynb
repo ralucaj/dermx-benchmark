{
 "cells": [
  {
   "cell_type": "code",
   "execution_count": null,
   "metadata": {
    "collapsed": true
   },
   "outputs": [],
   "source": [
    "import glob\n",
    "import pandas as pd\n",
    "from pathlib import Path\n",
    "from sklearn.metrics import classification_report\n",
    "\n",
    "base_path = \"/home/ubuntu/store/efficientnet-hpo\"\n",
    "model_preds = glob.glob(\"/home/ubuntu/store/efficientnet-hpo/*_preds.csv\")\n",
    "model_comparison_dict = {}\n",
    "\n",
    "for model_pred in model_preds:\n",
    "    model_preds_df = pd.read_pickle(Path(model_pred))\n",
    "    model_comparison_dict[Path(model_pred).stem] = classification_report(\n",
    "        model_preds_df['actual'],\n",
    "        model_preds_df['pred'],\n",
    "        labels=[0, 1, 2, 3, 4, 5],\n",
    "        target_names=['acne', 'actinic_keratosis', 'psoriasis_no_pustular', 'seborrheic_dermatitis', 'vitiligo', 'wart'],\n",
    "        output_dict=True\n",
    "    )['macro avg']\n",
    "\n",
    "model_comparison_df = pd.DataFrame.from_dict(model_comparison_dict, orient='index')\n",
    "model_comparison_df"
   ]
  }
 ],
 "metadata": {
  "kernelspec": {
   "display_name": "Python 3",
   "language": "python",
   "name": "python3"
  },
  "language_info": {
   "codemirror_mode": {
    "name": "ipython",
    "version": 2
   },
   "file_extension": ".py",
   "mimetype": "text/x-python",
   "name": "python",
   "nbconvert_exporter": "python",
   "pygments_lexer": "ipython2",
   "version": "2.7.6"
  }
 },
 "nbformat": 4,
 "nbformat_minor": 0
}
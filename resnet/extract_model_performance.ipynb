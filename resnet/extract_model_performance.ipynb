{
 "cells": [
  {
   "cell_type": "markdown",
   "id": "087d18be",
   "metadata": {},
   "source": [
    "`# ResNet's diagnostic performance"
   ]
  },
  {
   "cell_type": "markdown",
   "id": "07443d28",
   "metadata": {},
   "source": [
    "This notebook contains the code to compute the F1, precision, recall and specificity scores for model predictions on the neurips2021 test set. It is assumed that the predictions have already been made and that they are available in a .csv file (which are actually pickle files).\n",
    "\n",
    "Note: Make sure to use the tf2.5 (or tf2.3 on neurips2021-{1-3}) venv/kernel. Otherwise the pandas version might be too old to read the result files."
   ]
  },
  {
   "cell_type": "code",
   "execution_count": 1,
   "id": "f1c8709c",
   "metadata": {},
   "outputs": [],
   "source": [
    "import pandas as pd\n",
    "import numpy as np\n",
    "from pathlib import Path\n",
    "from sklearn.metrics import classification_report, recall_score, precision_score, confusion_matrix, accuracy_score\n"
   ]
  },
  {
   "cell_type": "code",
   "execution_count": 2,
   "id": "dc23f968",
   "metadata": {},
   "outputs": [
    {
     "data": {
      "text/plain": [
       "[PosixPath('resnet50_0_preds.csv'),\n",
       " PosixPath('resnet50_1_preds.csv'),\n",
       " PosixPath('resnet50_2_preds.csv'),\n",
       " PosixPath('resnet50_3_preds.csv'),\n",
       " PosixPath('resnet50_4_preds.csv')]"
      ]
     },
     "execution_count": 2,
     "metadata": {},
     "output_type": "execute_result"
    }
   ],
   "source": [
    "# Set paths\n",
    "base_model_pred_path = Path('/home/ubuntu/store/resnet-final-size')\n",
    "model_pred_fn = [Path('resnet50_' + str(i) + '_preds.csv') for i in range(5)]\n",
    "model_pred_fn"
   ]
  },
  {
   "cell_type": "code",
   "execution_count": 3,
   "id": "d4678ef8",
   "metadata": {},
   "outputs": [],
   "source": [
    "dfs = [pd.read_pickle(base_model_pred_path / model_pred_fn[i]) for i in range(5)]"
   ]
  },
  {
   "cell_type": "code",
   "execution_count": 4,
   "id": "5beb2f7f",
   "metadata": {},
   "outputs": [
    {
     "data": {
      "text/html": [
       "<div>\n",
       "<style scoped>\n",
       "    .dataframe tbody tr th:only-of-type {\n",
       "        vertical-align: middle;\n",
       "    }\n",
       "\n",
       "    .dataframe tbody tr th {\n",
       "        vertical-align: top;\n",
       "    }\n",
       "\n",
       "    .dataframe thead th {\n",
       "        text-align: right;\n",
       "    }\n",
       "</style>\n",
       "<table border=\"1\" class=\"dataframe\">\n",
       "  <thead>\n",
       "    <tr style=\"text-align: right;\">\n",
       "      <th></th>\n",
       "      <th>actual</th>\n",
       "      <th>pred</th>\n",
       "      <th>filenames</th>\n",
       "    </tr>\n",
       "  </thead>\n",
       "  <tbody>\n",
       "    <tr>\n",
       "      <th>0</th>\n",
       "      <td>0</td>\n",
       "      <td>3</td>\n",
       "      <td>Acne/032439HB.jpeg</td>\n",
       "    </tr>\n",
       "    <tr>\n",
       "      <th>1</th>\n",
       "      <td>0</td>\n",
       "      <td>2</td>\n",
       "      <td>Acne/032462HB.jpeg</td>\n",
       "    </tr>\n",
       "    <tr>\n",
       "      <th>2</th>\n",
       "      <td>0</td>\n",
       "      <td>3</td>\n",
       "      <td>Acne/032653HB.jpeg</td>\n",
       "    </tr>\n",
       "    <tr>\n",
       "      <th>3</th>\n",
       "      <td>0</td>\n",
       "      <td>5</td>\n",
       "      <td>Acne/032720HB.jpeg</td>\n",
       "    </tr>\n",
       "    <tr>\n",
       "      <th>4</th>\n",
       "      <td>0</td>\n",
       "      <td>0</td>\n",
       "      <td>Acne/032879HB.jpeg</td>\n",
       "    </tr>\n",
       "    <tr>\n",
       "      <th>...</th>\n",
       "      <td>...</td>\n",
       "      <td>...</td>\n",
       "      <td>...</td>\n",
       "    </tr>\n",
       "    <tr>\n",
       "      <th>561</th>\n",
       "      <td>5</td>\n",
       "      <td>4</td>\n",
       "      <td>Vitiligo/vitiligo-66--WatermarkedWyJXYXRlcm1hc...</td>\n",
       "    </tr>\n",
       "    <tr>\n",
       "      <th>562</th>\n",
       "      <td>5</td>\n",
       "      <td>0</td>\n",
       "      <td>Vitiligo/vitiligo1--WatermarkedWyJXYXRlcm1hcmt...</td>\n",
       "    </tr>\n",
       "    <tr>\n",
       "      <th>563</th>\n",
       "      <td>5</td>\n",
       "      <td>4</td>\n",
       "      <td>Vitiligo/vitiligo2--WatermarkedWyJXYXRlcm1hcmt...</td>\n",
       "    </tr>\n",
       "    <tr>\n",
       "      <th>564</th>\n",
       "      <td>5</td>\n",
       "      <td>2</td>\n",
       "      <td>Vitiligo/vitiligo3--WatermarkedWyJXYXRlcm1hcmt...</td>\n",
       "    </tr>\n",
       "    <tr>\n",
       "      <th>565</th>\n",
       "      <td>5</td>\n",
       "      <td>2</td>\n",
       "      <td>Vitiligo/vitiligo4--WatermarkedWyJXYXRlcm1hcmt...</td>\n",
       "    </tr>\n",
       "  </tbody>\n",
       "</table>\n",
       "<p>566 rows × 3 columns</p>\n",
       "</div>"
      ],
      "text/plain": [
       "     actual  pred                                          filenames\n",
       "0         0     3                                 Acne/032439HB.jpeg\n",
       "1         0     2                                 Acne/032462HB.jpeg\n",
       "2         0     3                                 Acne/032653HB.jpeg\n",
       "3         0     5                                 Acne/032720HB.jpeg\n",
       "4         0     0                                 Acne/032879HB.jpeg\n",
       "..      ...   ...                                                ...\n",
       "561       5     4  Vitiligo/vitiligo-66--WatermarkedWyJXYXRlcm1hc...\n",
       "562       5     0  Vitiligo/vitiligo1--WatermarkedWyJXYXRlcm1hcmt...\n",
       "563       5     4  Vitiligo/vitiligo2--WatermarkedWyJXYXRlcm1hcmt...\n",
       "564       5     2  Vitiligo/vitiligo3--WatermarkedWyJXYXRlcm1hcmt...\n",
       "565       5     2  Vitiligo/vitiligo4--WatermarkedWyJXYXRlcm1hcmt...\n",
       "\n",
       "[566 rows x 3 columns]"
      ]
     },
     "execution_count": 4,
     "metadata": {},
     "output_type": "execute_result"
    }
   ],
   "source": [
    "dfs[0]"
   ]
  },
  {
   "cell_type": "code",
   "execution_count": 5,
   "id": "5f3fb609",
   "metadata": {},
   "outputs": [
    {
     "data": {
      "text/html": [
       "<div>\n",
       "<style scoped>\n",
       "    .dataframe tbody tr th:only-of-type {\n",
       "        vertical-align: middle;\n",
       "    }\n",
       "\n",
       "    .dataframe tbody tr th {\n",
       "        vertical-align: top;\n",
       "    }\n",
       "\n",
       "    .dataframe thead th {\n",
       "        text-align: right;\n",
       "    }\n",
       "</style>\n",
       "<table border=\"1\" class=\"dataframe\">\n",
       "  <thead>\n",
       "    <tr style=\"text-align: right;\">\n",
       "      <th></th>\n",
       "      <th>Unnamed: 0</th>\n",
       "      <th>image_id</th>\n",
       "    </tr>\n",
       "  </thead>\n",
       "  <tbody>\n",
       "    <tr>\n",
       "      <th>0</th>\n",
       "      <td>0</td>\n",
       "      <td>005103HB.json</td>\n",
       "    </tr>\n",
       "    <tr>\n",
       "      <th>1</th>\n",
       "      <td>1</td>\n",
       "      <td>016003HB.json</td>\n",
       "    </tr>\n",
       "    <tr>\n",
       "      <th>2</th>\n",
       "      <td>2</td>\n",
       "      <td>016013HB.json</td>\n",
       "    </tr>\n",
       "    <tr>\n",
       "      <th>3</th>\n",
       "      <td>3</td>\n",
       "      <td>016139HB.json</td>\n",
       "    </tr>\n",
       "    <tr>\n",
       "      <th>4</th>\n",
       "      <td>4</td>\n",
       "      <td>016263HB.json</td>\n",
       "    </tr>\n",
       "  </tbody>\n",
       "</table>\n",
       "</div>"
      ],
      "text/plain": [
       "   Unnamed: 0       image_id\n",
       "0           0  005103HB.json\n",
       "1           1  016003HB.json\n",
       "2           2  016013HB.json\n",
       "3           3  016139HB.json\n",
       "4           4  016263HB.json"
      ]
     },
     "execution_count": 5,
     "metadata": {},
     "output_type": "execute_result"
    }
   ],
   "source": [
    "# Filter so that only 525 included\n",
    "include_images = pd.read_csv('./include_images_525.csv')\n",
    "include_images.head()"
   ]
  },
  {
   "cell_type": "code",
   "execution_count": 6,
   "id": "6d7d4013",
   "metadata": {},
   "outputs": [
    {
     "data": {
      "text/html": [
       "<div>\n",
       "<style scoped>\n",
       "    .dataframe tbody tr th:only-of-type {\n",
       "        vertical-align: middle;\n",
       "    }\n",
       "\n",
       "    .dataframe tbody tr th {\n",
       "        vertical-align: top;\n",
       "    }\n",
       "\n",
       "    .dataframe thead th {\n",
       "        text-align: right;\n",
       "    }\n",
       "</style>\n",
       "<table border=\"1\" class=\"dataframe\">\n",
       "  <thead>\n",
       "    <tr style=\"text-align: right;\">\n",
       "      <th></th>\n",
       "      <th>actual</th>\n",
       "      <th>pred</th>\n",
       "      <th>filenames</th>\n",
       "    </tr>\n",
       "  </thead>\n",
       "  <tbody>\n",
       "    <tr>\n",
       "      <th>0</th>\n",
       "      <td>0</td>\n",
       "      <td>3</td>\n",
       "      <td>Acne/032439HB.jpeg</td>\n",
       "    </tr>\n",
       "    <tr>\n",
       "      <th>1</th>\n",
       "      <td>0</td>\n",
       "      <td>2</td>\n",
       "      <td>Acne/032462HB.jpeg</td>\n",
       "    </tr>\n",
       "    <tr>\n",
       "      <th>2</th>\n",
       "      <td>0</td>\n",
       "      <td>3</td>\n",
       "      <td>Acne/032653HB.jpeg</td>\n",
       "    </tr>\n",
       "    <tr>\n",
       "      <th>3</th>\n",
       "      <td>0</td>\n",
       "      <td>5</td>\n",
       "      <td>Acne/032720HB.jpeg</td>\n",
       "    </tr>\n",
       "    <tr>\n",
       "      <th>4</th>\n",
       "      <td>0</td>\n",
       "      <td>0</td>\n",
       "      <td>Acne/032879HB.jpeg</td>\n",
       "    </tr>\n",
       "    <tr>\n",
       "      <th>...</th>\n",
       "      <td>...</td>\n",
       "      <td>...</td>\n",
       "      <td>...</td>\n",
       "    </tr>\n",
       "    <tr>\n",
       "      <th>561</th>\n",
       "      <td>5</td>\n",
       "      <td>4</td>\n",
       "      <td>Vitiligo/vitiligo-66--WatermarkedWyJXYXRlcm1hc...</td>\n",
       "    </tr>\n",
       "    <tr>\n",
       "      <th>562</th>\n",
       "      <td>5</td>\n",
       "      <td>0</td>\n",
       "      <td>Vitiligo/vitiligo1--WatermarkedWyJXYXRlcm1hcmt...</td>\n",
       "    </tr>\n",
       "    <tr>\n",
       "      <th>563</th>\n",
       "      <td>5</td>\n",
       "      <td>4</td>\n",
       "      <td>Vitiligo/vitiligo2--WatermarkedWyJXYXRlcm1hcmt...</td>\n",
       "    </tr>\n",
       "    <tr>\n",
       "      <th>564</th>\n",
       "      <td>5</td>\n",
       "      <td>2</td>\n",
       "      <td>Vitiligo/vitiligo3--WatermarkedWyJXYXRlcm1hcmt...</td>\n",
       "    </tr>\n",
       "    <tr>\n",
       "      <th>565</th>\n",
       "      <td>5</td>\n",
       "      <td>2</td>\n",
       "      <td>Vitiligo/vitiligo4--WatermarkedWyJXYXRlcm1hcmt...</td>\n",
       "    </tr>\n",
       "  </tbody>\n",
       "</table>\n",
       "<p>525 rows × 3 columns</p>\n",
       "</div>"
      ],
      "text/plain": [
       "     actual  pred                                          filenames\n",
       "0         0     3                                 Acne/032439HB.jpeg\n",
       "1         0     2                                 Acne/032462HB.jpeg\n",
       "2         0     3                                 Acne/032653HB.jpeg\n",
       "3         0     5                                 Acne/032720HB.jpeg\n",
       "4         0     0                                 Acne/032879HB.jpeg\n",
       "..      ...   ...                                                ...\n",
       "561       5     4  Vitiligo/vitiligo-66--WatermarkedWyJXYXRlcm1hc...\n",
       "562       5     0  Vitiligo/vitiligo1--WatermarkedWyJXYXRlcm1hcmt...\n",
       "563       5     4  Vitiligo/vitiligo2--WatermarkedWyJXYXRlcm1hcmt...\n",
       "564       5     2  Vitiligo/vitiligo3--WatermarkedWyJXYXRlcm1hcmt...\n",
       "565       5     2  Vitiligo/vitiligo4--WatermarkedWyJXYXRlcm1hcmt...\n",
       "\n",
       "[525 rows x 3 columns]"
      ]
     },
     "execution_count": 6,
     "metadata": {},
     "output_type": "execute_result"
    }
   ],
   "source": [
    "for i in range(len(dfs)):\n",
    "    dfs[i] = dfs[i].loc[[True if filename in include_images.image_id.apply(lambda x: x.split('.')[0]).values else False for filename in dfs[i].filenames.apply(lambda x: x.split('/')[1].split('.')[0]).values ]]\n",
    "\n",
    "dfs[0]"
   ]
  },
  {
   "cell_type": "code",
   "execution_count": 7,
   "id": "f8e0d75e",
   "metadata": {},
   "outputs": [],
   "source": [
    "# Compute the precision, recall and f1-score for each class. The specificity and NPV scores are not a part of the\n",
    "# \"classification_report\" function and will be computed separately in a cell below.\n",
    "per_model_res = []\n",
    "class_names = ['acne',\n",
    "               'actinic_keratosis',\n",
    "               'psoriasis_no_pustular',\n",
    "               'seborrheic_dermatitis',\n",
    "               'vitiligo',\n",
    "               'wart'\n",
    "              ]\n",
    "\n",
    "for i in range(5):\n",
    "    per_model_res.append(\n",
    "        classification_report(\n",
    "            dfs[i].actual, \n",
    "            dfs[i].pred,\n",
    "            labels=[0, 1, 2, 3, 4, 5],\n",
    "            target_names=class_names,\n",
    "        output_dict=True\n",
    "        )#['macro avg']\n",
    "    )\n"
   ]
  },
  {
   "cell_type": "code",
   "execution_count": 8,
   "id": "06c7581a",
   "metadata": {},
   "outputs": [
    {
     "data": {
      "text/plain": [
       "{'acne': {'precision': 0.7407407407407407,\n",
       "  'recall': 0.40404040404040403,\n",
       "  'f1-score': 0.5228758169934641,\n",
       "  'support': 99},\n",
       " 'actinic_keratosis': {'precision': 0.7916666666666666,\n",
       "  'recall': 0.2087912087912088,\n",
       "  'f1-score': 0.33043478260869563,\n",
       "  'support': 91},\n",
       " 'psoriasis_no_pustular': {'precision': 0.3514644351464435,\n",
       "  'recall': 0.865979381443299,\n",
       "  'f1-score': 0.5,\n",
       "  'support': 97},\n",
       " 'seborrheic_dermatitis': {'precision': 0.5287356321839081,\n",
       "  'recall': 0.5897435897435898,\n",
       "  'f1-score': 0.5575757575757575,\n",
       "  'support': 78},\n",
       " 'vitiligo': {'precision': 0.0, 'recall': 0.0, 'f1-score': 0.0, 'support': 74},\n",
       " 'wart': {'precision': 0.21568627450980393,\n",
       "  'recall': 0.2558139534883721,\n",
       "  'f1-score': 0.23404255319148937,\n",
       "  'support': 86},\n",
       " 'accuracy': 0.40190476190476193,\n",
       " 'macro avg': {'precision': 0.43804895820792716,\n",
       "  'recall': 0.38739475625114567,\n",
       "  'f1-score': 0.35748815172823445,\n",
       "  'support': 525},\n",
       " 'weighted avg': {'precision': 0.4557284745283676,\n",
       "  'recall': 0.40190476190476193,\n",
       "  'f1-score': 0.36943398050499315,\n",
       "  'support': 525}}"
      ]
     },
     "execution_count": 8,
     "metadata": {},
     "output_type": "execute_result"
    }
   ],
   "source": [
    "per_model_res[0]"
   ]
  },
  {
   "cell_type": "code",
   "execution_count": 9,
   "id": "364c16c2",
   "metadata": {},
   "outputs": [],
   "source": [
    "# Calculate the specificity values.\n",
    "for i in range(5):  # For each model\n",
    "    for j in range(6):  # For each class\n",
    "        cur_class = class_names[j]\n",
    "        y_true = np.asarray(list(dfs[i].actual)) == j\n",
    "        y_pred = np.asarray(list(dfs[i].pred)) == j\n",
    "    \n",
    "        # By setting the pos_label to 0, we get the specificity instead of the recall.\n",
    "        per_model_res[i][cur_class]['specificity'] = recall_score(y_true, y_pred, pos_label=0)\n",
    "        \n",
    "        # By setting the pos_label to 0, we get the NPV instead of the precision.\n",
    "        per_model_res[i][cur_class]['NPV'] = precision_score(y_true, y_pred, pos_label=0)\n",
    "        \n",
    "        per_model_res[i][cur_class]['accuracy'] = accuracy_score(dfs[i].actual,dfs[i].pred)"
   ]
  },
  {
   "cell_type": "code",
   "execution_count": 10,
   "id": "c9ed0823",
   "metadata": {},
   "outputs": [
    {
     "data": {
      "text/plain": [
       "{'acne': {'precision': 0.7407407407407407,\n",
       "  'recall': 0.40404040404040403,\n",
       "  'f1-score': 0.5228758169934641,\n",
       "  'support': 99,\n",
       "  'specificity': 0.9671361502347418,\n",
       "  'NPV': 0.8747346072186837,\n",
       "  'accuracy': 0.40190476190476193},\n",
       " 'actinic_keratosis': {'precision': 0.7916666666666666,\n",
       "  'recall': 0.2087912087912088,\n",
       "  'f1-score': 0.33043478260869563,\n",
       "  'support': 91,\n",
       "  'specificity': 0.988479262672811,\n",
       "  'NPV': 0.8562874251497006,\n",
       "  'accuracy': 0.40190476190476193},\n",
       " 'psoriasis_no_pustular': {'precision': 0.3514644351464435,\n",
       "  'recall': 0.865979381443299,\n",
       "  'f1-score': 0.5,\n",
       "  'support': 97,\n",
       "  'specificity': 0.6378504672897196,\n",
       "  'NPV': 0.9545454545454546,\n",
       "  'accuracy': 0.40190476190476193},\n",
       " 'seborrheic_dermatitis': {'precision': 0.5287356321839081,\n",
       "  'recall': 0.5897435897435898,\n",
       "  'f1-score': 0.5575757575757575,\n",
       "  'support': 78,\n",
       "  'specificity': 0.9082774049217002,\n",
       "  'NPV': 0.9269406392694064,\n",
       "  'accuracy': 0.40190476190476193},\n",
       " 'vitiligo': {'precision': 0.0,\n",
       "  'recall': 0.0,\n",
       "  'f1-score': 0.0,\n",
       "  'support': 74,\n",
       "  'specificity': 0.9578713968957872,\n",
       "  'NPV': 0.8537549407114624,\n",
       "  'accuracy': 0.40190476190476193},\n",
       " 'wart': {'precision': 0.21568627450980393,\n",
       "  'recall': 0.2558139534883721,\n",
       "  'f1-score': 0.23404255319148937,\n",
       "  'support': 86,\n",
       "  'specificity': 0.8177676537585421,\n",
       "  'NPV': 0.8486997635933806,\n",
       "  'accuracy': 0.40190476190476193},\n",
       " 'accuracy': 0.40190476190476193,\n",
       " 'macro avg': {'precision': 0.43804895820792716,\n",
       "  'recall': 0.38739475625114567,\n",
       "  'f1-score': 0.35748815172823445,\n",
       "  'support': 525},\n",
       " 'weighted avg': {'precision': 0.4557284745283676,\n",
       "  'recall': 0.40190476190476193,\n",
       "  'f1-score': 0.36943398050499315,\n",
       "  'support': 525}}"
      ]
     },
     "execution_count": 10,
     "metadata": {},
     "output_type": "execute_result"
    }
   ],
   "source": [
    "per_model_res[0]"
   ]
  },
  {
   "cell_type": "markdown",
   "id": "b153d2b2",
   "metadata": {},
   "source": [
    "# Print confusion matrics \n",
    "\n",
    "The classes are:  \n",
    "acne,  \n",
    "actinic_keratosis,  \n",
    "psoriasis_no_pustular,  \n",
    "seborrheic_dermatitis,  \n",
    "vitiligo,  \n",
    "wart  \n"
   ]
  },
  {
   "cell_type": "code",
   "execution_count": 65,
   "id": "619c86d7",
   "metadata": {},
   "outputs": [
    {
     "data": {
      "text/plain": [
       "array([[40,  1, 30, 12,  0, 16],\n",
       "       [ 5, 19, 42, 19,  0,  6],\n",
       "       [ 0,  1, 84,  5,  0,  7],\n",
       "       [ 4,  0, 18, 46,  0, 10],\n",
       "       [ 3,  0, 27,  3,  0, 41],\n",
       "       [ 2,  3, 38,  2, 19, 22]])"
      ]
     },
     "execution_count": 65,
     "metadata": {},
     "output_type": "execute_result"
    }
   ],
   "source": [
    "confusion_matrix(dfs[0].actual, dfs[0].pred)"
   ]
  },
  {
   "cell_type": "code",
   "execution_count": 66,
   "id": "1f116d0a",
   "metadata": {},
   "outputs": [
    {
     "data": {
      "text/plain": [
       "array([[42, 10,  9, 28,  1,  9],\n",
       "       [ 4, 40,  9, 30,  5,  3],\n",
       "       [ 5,  8, 40, 27,  8,  9],\n",
       "       [ 5,  7,  8, 56,  0,  2],\n",
       "       [ 6,  3, 13,  4,  3, 45],\n",
       "       [ 4,  2, 10,  5, 51, 14]])"
      ]
     },
     "execution_count": 66,
     "metadata": {},
     "output_type": "execute_result"
    }
   ],
   "source": [
    "confusion_matrix(dfs[1].actual, dfs[1].pred)"
   ]
  },
  {
   "cell_type": "code",
   "execution_count": 67,
   "id": "acbc1722",
   "metadata": {},
   "outputs": [
    {
     "data": {
      "text/plain": [
       "array([[22,  4, 65,  7,  0,  1],\n",
       "       [ 2, 19, 50, 19,  0,  1],\n",
       "       [ 0,  5, 82,  5,  4,  1],\n",
       "       [ 1,  2, 35, 38,  0,  2],\n",
       "       [ 0,  2, 38,  2,  2, 30],\n",
       "       [ 0,  4, 40,  5, 27, 10]])"
      ]
     },
     "execution_count": 67,
     "metadata": {},
     "output_type": "execute_result"
    }
   ],
   "source": [
    "confusion_matrix(dfs[2].actual, dfs[2].pred)"
   ]
  },
  {
   "cell_type": "code",
   "execution_count": 68,
   "id": "5b902c22",
   "metadata": {},
   "outputs": [
    {
     "data": {
      "text/plain": [
       "array([[61,  4, 26,  1,  1,  6],\n",
       "       [ 4, 16, 58,  0,  4,  9],\n",
       "       [ 4,  0, 84,  1,  3,  5],\n",
       "       [ 9,  0, 57,  4,  2,  6],\n",
       "       [ 5,  1, 26,  1,  4, 37],\n",
       "       [ 1,  2, 15,  2, 60,  6]])"
      ]
     },
     "execution_count": 68,
     "metadata": {},
     "output_type": "execute_result"
    }
   ],
   "source": [
    "confusion_matrix(dfs[3].actual, dfs[3].pred)"
   ]
  },
  {
   "cell_type": "code",
   "execution_count": 70,
   "id": "a5d7b2fd",
   "metadata": {},
   "outputs": [
    {
     "data": {
      "text/plain": [
       "array([[47,  1, 41,  1,  1,  8],\n",
       "       [ 3, 12, 69,  3,  1,  3],\n",
       "       [ 3,  1, 87,  0,  1,  5],\n",
       "       [ 3,  2, 53, 14,  0,  6],\n",
       "       [ 2,  1, 35,  0,  3, 33],\n",
       "       [ 4,  4, 37,  0, 32,  9]])"
      ]
     },
     "execution_count": 70,
     "metadata": {},
     "output_type": "execute_result"
    }
   ],
   "source": [
    "confusion_matrix(dfs[4].actual, dfs[4].pred)"
   ]
  },
  {
   "cell_type": "markdown",
   "id": "bc428eb1",
   "metadata": {},
   "source": [
    "# Compute the micro-avg and std for each class across the 5 models"
   ]
  },
  {
   "cell_type": "code",
   "execution_count": 71,
   "id": "34a680fd",
   "metadata": {},
   "outputs": [],
   "source": [
    "# Create (nested) dict where each of the scores (across the models) for each metric are put into a numpy array.\n",
    "metrics = ['f1-score', 'precision', 'recall', 'specificity', 'NPV', 'accuracy']\n",
    "class_scores = {c: {m:np.zeros(5) for m in metrics} for c in class_names}\n",
    "for i in range(5):\n",
    "    for c in class_names:\n",
    "        for m in metrics:\n",
    "            class_scores[c][m][i] = per_model_res[i][c][m]"
   ]
  },
  {
   "cell_type": "code",
   "execution_count": 72,
   "id": "8e451382",
   "metadata": {},
   "outputs": [],
   "source": [
    "# Calculate the mean (micro-avg) and std for each class and each metric.\n",
    "avg_std_res = {c: {m:() for m in metrics} for c in class_names}\n",
    "for c in class_names:\n",
    "    for m in metrics:\n",
    "        avg_std_res[c][m] = (np.mean(class_scores[c][m]), np.std(class_scores[c][m]))"
   ]
  },
  {
   "cell_type": "code",
   "execution_count": 73,
   "id": "eeee3d47",
   "metadata": {},
   "outputs": [
    {
     "name": "stdout",
     "output_type": "stream",
     "text": [
      "acne\n",
      "f1-score (0.5274646068210955, 0.10267909351083032)\n",
      "precision (0.7482718738847771, 0.07812292207490344)\n",
      "recall (0.42828282828282827, 0.1269034244407225)\n",
      "specificity (0.9629107981220658, 0.017778494111513145)\n",
      "NPV (0.8796145570220861, 0.021928143049660523)\n",
      "accuracy (0.3527619047619048, 0.029370415645556407)\n",
      "\n",
      "\n",
      "actinic_keratosis\n",
      "f1-score (0.32430585192869194, 0.09429718291429502)\n",
      "precision (0.6315907522429262, 0.09771824168800115)\n",
      "recall (0.23296703296703297, 0.10708507881388864)\n",
      "specificity (0.9686635944700461, 0.021097738511077616)\n",
      "NPV (0.8581623654147658, 0.015474009337586555)\n",
      "accuracy (0.3527619047619048, 0.029370415645556407)\n",
      "\n",
      "\n",
      "psoriasis_no_pustular\n",
      "f1-score (0.4422280620385311, 0.03514969438153134)\n",
      "precision (0.330278915102766, 0.06751824649907774)\n",
      "recall (0.777319587628866, 0.18321533931153042)\n",
      "specificity (0.6032710280373832, 0.15707747742953415)\n",
      "NPV (0.9309179867587936, 0.031966701116977005)\n",
      "accuracy (0.3527619047619048, 0.029370415645556407)\n",
      "\n",
      "\n",
      "seborrheic_dermatitis\n",
      "f1-score (0.3851862021825723, 0.17171332885165763)\n",
      "precision (0.5248582375478927, 0.13713309936828738)\n",
      "recall (0.40512820512820513, 0.2509154835430783)\n",
      "specificity (0.9185682326621925, 0.07336443371844945)\n",
      "NPV (0.9019087037168017, 0.03196179668544765)\n",
      "accuracy (0.3527619047619048, 0.029370415645556407)\n",
      "\n",
      "\n",
      "vitiligo\n",
      "f1-score (0.03745243626446733, 0.019804927775627323)\n",
      "precision (0.04754502602799816, 0.02634897191339849)\n",
      "recall (0.032432432432432434, 0.018330621576014238)\n",
      "specificity (0.9024390243902438, 0.04425711733880141)\n",
      "NPV (0.850210245907659, 0.004491648837041896)\n",
      "accuracy (0.3527619047619048, 0.029370415645556407)\n",
      "\n",
      "\n",
      "wart\n",
      "f1-score (0.1501600660844113, 0.05199209314818828)\n",
      "precision (0.16724434515764597, 0.05007209463687883)\n",
      "recall (0.1418604651162791, 0.06428034865621048)\n",
      "specificity (0.862870159453303, 0.03413513930738804)\n",
      "NPV (0.837074283499674, 0.00812160463974543)\n",
      "accuracy (0.3527619047619048, 0.029370415645556407)\n",
      "\n",
      "\n"
     ]
    }
   ],
   "source": [
    "for c in class_names:\n",
    "    print(c)\n",
    "    for m in metrics:\n",
    "        print(m, avg_std_res[c][m])\n",
    "    print('\\n')"
   ]
  },
  {
   "cell_type": "code",
   "execution_count": null,
   "id": "d31b172e",
   "metadata": {},
   "outputs": [],
   "source": []
  },
  {
   "cell_type": "code",
   "execution_count": null,
   "id": "a86a3390",
   "metadata": {},
   "outputs": [],
   "source": []
  }
 ],
 "metadata": {
  "kernelspec": {
   "display_name": "tf2_5",
   "language": "python",
   "name": "tf2_5"
  },
  "language_info": {
   "codemirror_mode": {
    "name": "ipython",
    "version": 3
   },
   "file_extension": ".py",
   "mimetype": "text/x-python",
   "name": "python",
   "nbconvert_exporter": "python",
   "pygments_lexer": "ipython3",
   "version": "3.7.5"
  }
 },
 "nbformat": 4,
 "nbformat_minor": 5
}
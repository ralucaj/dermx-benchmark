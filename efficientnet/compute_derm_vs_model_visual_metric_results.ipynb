{
 "cells": [
  {
   "cell_type": "markdown",
   "id": "cbbca051",
   "metadata": {},
   "source": [
    "This notebook computes all of the \"distances\" (the fuzzy logic scores for IOU, DICE, ...) between the GradCam maps produced by the final resNet50 model and the visual characterstics maps created by the derm. That is: \n",
    "\n",
    "```\n",
    "for each image i  \n",
    "  for each GradCam image i_gc  \n",
    "    for each derm d  \n",
    "      for each characteristic d_char  \n",
    "        compute the visual distance between i_gc and d_char \n",
    "```\n"
   ]
  },
  {
   "cell_type": "code",
   "execution_count": 1,
   "id": "da3b6100",
   "metadata": {},
   "outputs": [],
   "source": [
    "%matplotlib inline\n",
    "import pandas as pd\n",
    "import numpy as np\n",
    "from pathlib import Path\n",
    "from collections import defaultdict\n",
    "from matplotlib.pyplot import imshow\n",
    "from PIL import Image\n"
   ]
  },
  {
   "cell_type": "code",
   "execution_count": 2,
   "id": "77f6d0a1",
   "metadata": {},
   "outputs": [],
   "source": [
    "# Set paths\n",
    "\n",
    "# Path to the GradCam images.\n",
    "gradcam_main_path = Path('/home/ubuntu/store/efficientnet-final-size/visualisation/gradcam/')\n",
    "\n",
    "# Set path to the model used to create the visualisations.\n",
    "model_path = Path('efficientnetb4_0')\n",
    "\n",
    "# Path to the masks create by the derms for the individual characteristics.\n",
    "derm_mask_main_path = Path('/home/ubuntu/store/masks/masks_resized')\n",
    "\n",
    "# Path to the rescaled test images.\n",
    "test_im_path = Path('/home/ubuntu/store/DermX-test-set/test/')\n"
   ]
  },
  {
   "cell_type": "code",
   "execution_count": 3,
   "id": "f8c2ca73",
   "metadata": {},
   "outputs": [],
   "source": [
    "full_gradcam_path = gradcam_main_path / model_path\n",
    "full_lime_path = lime_main_path / model_path"
   ]
  },
  {
   "cell_type": "code",
   "execution_count": 4,
   "id": "1037158f",
   "metadata": {},
   "outputs": [],
   "source": [
    "classes = [\n",
    "    \"Acne\",\n",
    "    \"Actinic keratosis\",\n",
    "    \"Psoriasis\",\n",
    "    \"Seborrheic dermatitis\",\n",
    "    \"Viral warts\",\n",
    "    \"Vitiligo\"\n",
    "]\n",
    "\n",
    "derms = [\n",
    "    'derm0',\n",
    "    'derm1',\n",
    "    'derm2',\n",
    "    'derm3',\n",
    "    'derm4',\n",
    "    'derm5',\n",
    "    'derm6',\n",
    "    'derm7',\n",
    "]\n",
    "\n",
    "chars = [\n",
    "    'closed-comedo',\n",
    "    'cyst',\n",
    "    'dermatoglyph-disruption',\n",
    "    'leukotrichia',\n",
    "    'macule',\n",
    "    'nodule',\n",
    "    'open-comedo',\n",
    "    'papule',\n",
    "    'patch',\n",
    "    'plaque',\n",
    "    'pustule',\n",
    "    'scale',\n",
    "    'scar',\n",
    "    'sun-damage',\n",
    "    'telangiectasia',\n",
    "    'thrombosed-capillaries'\n",
    "]\n"
   ]
  },
  {
   "cell_type": "code",
   "execution_count": 5,
   "id": "36dbd595",
   "metadata": {},
   "outputs": [
    {
     "data": {
      "text/plain": [
       "[PosixPath('/home/ubuntu/store/masks/masks_spinaltap/043023HB_mihaela_2021-05-27-masks_plaque.png'),\n",
       " PosixPath('/home/ubuntu/store/masks/masks_spinaltap/043212HB_adelina_2021-05-27-masks_scale.png'),\n",
       " PosixPath('/home/ubuntu/store/masks/masks_spinaltap/043269HB_adelina_2021-05-27-masks_papule.png'),\n",
       " PosixPath('/home/ubuntu/store/masks/masks_spinaltap/293--WatermarkedWyJXYXRlcm1hcmtlZCJd_mihaela_2021-05-27-masks_scale.png'),\n",
       " PosixPath('/home/ubuntu/store/masks/masks_spinaltap/viral-wart-08--WatermarkedWyJXYXRlcm1hcmtlZCJd_oana_2021-05-27-masks_papule.png')]"
      ]
     },
     "execution_count": 5,
     "metadata": {},
     "output_type": "execute_result"
    }
   ],
   "source": [
    "# Extract the paths to the derm masks. The resulting list is only used for a sanity check.\n",
    "derm_mask_paths = [p for p in derm_mask_main_path.iterdir() if p.suffix == '.png']\n",
    "derm_mask_paths[0:5]"
   ]
  },
  {
   "cell_type": "code",
   "execution_count": 6,
   "id": "e11a1739",
   "metadata": {},
   "outputs": [
    {
     "data": {
      "text/plain": [
       "[PosixPath('/home/ubuntu/store/DermX-test-set/test/Actinic keratosis/017359HB.jpeg'),\n",
       " PosixPath('/home/ubuntu/store/DermX-test-set/test/Actinic keratosis/476--WatermarkedWyJXYXRlcm1hcmtlZCJd.jpeg'),\n",
       " PosixPath('/home/ubuntu/store/DermX-test-set/test/Actinic keratosis/469--WatermarkedWyJXYXRlcm1hcmtlZCJd.jpeg'),\n",
       " PosixPath('/home/ubuntu/store/DermX-test-set/test/Actinic keratosis/3742--WatermarkedWyJXYXRlcm1hcmtlZCJd.jpeg'),\n",
       " PosixPath('/home/ubuntu/store/DermX-test-set/test/Actinic keratosis/3753--WatermarkedWyJXYXRlcm1hcmtlZCJd.jpeg')]"
      ]
     },
     "execution_count": 6,
     "metadata": {},
     "output_type": "execute_result"
    }
   ],
   "source": [
    "# Extract the paths to the test images. Only needed for visualization and debugging.\n",
    "test_img_paths = [p for p in Path(test_im_path).rglob('*.jpeg')]\n",
    "test_img_paths[0:5]"
   ]
  },
  {
   "cell_type": "code",
   "execution_count": 7,
   "id": "aec9b08e",
   "metadata": {},
   "outputs": [],
   "source": [
    "# Metrics supporting probabilistic segmentation maps\n",
    "fuzzy_and = lambda x,y: np.minimum(x,y)\n",
    "fuzzy_or = lambda x,y: np.maximum(x,y)\n",
    "fuzzy_not = lambda x: 1-x\n",
    "\n",
    "def pixel_metrics_fuzzy(y_true, y_pred):\n",
    "    \"\"\"\n",
    "    Pixel-level metrics of segmentation accuracy following fuzzy logic operators.\n",
    "    \n",
    "    :param y_true: numpy.ndarray of reference segmentation, values in [0,1]\n",
    "    :param y_pred: numpy.ndarray of predicted segmentation, values in [0,1]\n",
    "\n",
    "    :return: a dictionary encoding the metrics\n",
    "    \"\"\"\n",
    "        \n",
    "    np.testing.assert_equal(y_true.shape, y_pred.shape, err_msg=\"Expecting \\\n",
    "    the reference and predicted segmentations to be of the same size.\")\n",
    "    \n",
    "    # Check the ranges\n",
    "    np.testing.assert_equal(np.logical_and(y_true >= 0, y_true <= 1).all(), True, err_msg=\"Expecting \\\n",
    "    the reference segmentations to be in the range 0 to 1.\")\n",
    "    np.testing.assert_equal(np.logical_and(y_pred >= 0, y_pred <= 1).all(), True, err_msg=\"Expecting \\\n",
    "    the predicted segmentations to be in the range 0 to 1.\")\n",
    "    \n",
    "    TP = fuzzy_and(y_true, y_pred).sum()\n",
    "    TN = fuzzy_and(fuzzy_not(y_true), fuzzy_not(y_pred)).sum()\n",
    "    union = fuzzy_or(y_true, y_pred).sum()\n",
    "    \n",
    "    metrics = {}\n",
    "    \n",
    "    # Summary metrics\n",
    "    metrics[\"iou\"] = TP / union\n",
    "    metrics[\"dice\"] = 2 * TP / ( y_true.sum() + y_pred.sum() ) \n",
    "    \n",
    "    # Positive class metrics\n",
    "    metrics[\"precision\"] = TP / y_pred.sum()\n",
    "    metrics[\"recall\"] = TP / y_true.sum()\n",
    "    \n",
    "    # Negative class metrics\n",
    "    metrics[\"negative_predictive_value\"] = TN / fuzzy_not(y_pred).sum()\n",
    "    metrics[\"specificity\"] = TN / fuzzy_not(y_true).sum()\n",
    "    \n",
    "    return metrics"
   ]
  },
  {
   "cell_type": "code",
   "execution_count": 8,
   "id": "9255c438",
   "metadata": {},
   "outputs": [],
   "source": [
    "def calc_res(gradcam_image_path, derm_char_mask_path, interpolation_method=Image.NEAREST):\n",
    "    \"\"\"\n",
    "    Calculates the fuzzy logic metrics given the paths to a pair of input images.\n",
    "    The derm mask is resized to match the size of the gradcam image.\n",
    "    \n",
    "    Input:\n",
    "    - gradcam_image_path: Pathlib path to a gradCam image. The file is assumed to be in .npy format.\n",
    "    - derm_char_mask_path: Pathlib path to a derm annotation. The file is assumed to be in a format that can\n",
    "                           be opened by PIL.\n",
    "    - interpolation_method: String. The method used for interpolation when resizing the derm mask. Options are\n",
    "                            NEAREST, BOX, BILINEAR, HAMMING, BICUBIC, LANCZOS. Default is NEAREST.    \n",
    "    \"\"\"\n",
    "    \n",
    "    # Open images.\n",
    "    gradcam_im = np.load(gradcam_image_path, allow_pickle=True)\n",
    "    mask_im = Image.open(derm_char_mask_path)\n",
    "    \n",
    "    # Resize the derm mask if its size does not match the size of the gradcam image.\n",
    "    if gradcam_im.shape != mask_im.size[::-1]:\n",
    "        # Note that resize uses (cols, rows) format, while .shape is in (rows, cols) format.\n",
    "        mask_im = mask_im.resize((gradcam_im.shape[::-1]), interpolation_method)\n",
    "    \n",
    "    # Corvert the derm mask to numpy format and normalize to [0, 1].\n",
    "    mask_im = np.asarray(mask_im) / 255\n",
    "  \n",
    "    res = pixel_metrics_fuzzy(mask_im, gradcam_im)\n",
    "    return res"
   ]
  },
  {
   "cell_type": "code",
   "execution_count": 9,
   "id": "7d610313",
   "metadata": {},
   "outputs": [
    {
     "name": "stdout",
     "output_type": "stream",
     "text": [
      "19578\n"
     ]
    }
   ],
   "source": [
    "# For each image in the test set, calculate the value of the defined metrics given the GradCam image for a given\n",
    "# class and the outline made by a specific derm for a given characteristic. The result is stored in a defaultdict.\n",
    "# As a sanity check, the number of matches between GradCam images and derm annotations is also calculated.\n",
    "rec_dd = lambda: defaultdict(rec_dd)\n",
    "out_gradcam = rec_dd()\n",
    "hit_counter = 0\n",
    "\n",
    "# Set the method used for interpolation when resizing the derm annotations.\n",
    "interpolation = Image.NEAREST\n",
    "\n",
    "for p in test_img_paths:\n",
    "    for c in classes:\n",
    "        # Check if matching GradCam file exists.\n",
    "        gc_path = full_gradcam_path / Path(p.stem + '_' + c + '.npy')\n",
    "        if gc_path.is_file():\n",
    "            for d in derms:\n",
    "                for ch in chars:\n",
    "                    # Check if this derm has created a mask for this characteristic.\n",
    "                    mask_path = derm_mask_main_path / Path(p.stem + '_' + d + '_2021-05-27-masks_' + ch + '.png') \n",
    "                    if mask_path.is_file():\n",
    "                        # Calculate the value of the metics given the GradCam image and the derm mask.\n",
    "                        gradcam_metric_val = calc_res(gc_path, mask_path, interpolation)\n",
    "                        out_gradcam[p.stem][c][d][ch] = gradcam_metric_val\n",
    "                        hit_counter += 1\n",
    "        else:\n",
    "            print('GradCam or LIME file missing for image: ', p)\n",
    "\n",
    "print(hit_counter)\n",
    "\n"
   ]
  },
  {
   "cell_type": "code",
   "execution_count": 12,
   "id": "37d5ce15",
   "metadata": {},
   "outputs": [
    {
     "name": "stdout",
     "output_type": "stream",
     "text": [
      "GradCam images found for all derm annotations.\n"
     ]
    }
   ],
   "source": [
    "# We expect that the value of the hit counter should be equal to the number of derm masks multiplied with the number\n",
    "# of classes.\n",
    "if len(derm_mask_paths)*6 != hit_counter:\n",
    "    print('Oh no, some files were not found. Expected/found: ', len(derm_mask_paths)*6, hit_counter)\n",
    "else:\n",
    "    print('GradCam images found for all derm annotations.')\n"
   ]
  },
  {
   "cell_type": "code",
   "execution_count": 13,
   "id": "17a2eb3d",
   "metadata": {},
   "outputs": [],
   "source": [
    "def transform_to_list(nested_dict):\n",
    "    # Transform the gradcam defaultdict to a list of tuples.\n",
    "    \n",
    "    out = []\n",
    "    for im_name, class_dict in nested_dict.items():\n",
    "        for class_name, derm_dict in class_dict.items():\n",
    "            for derm_name, char_dict in derm_dict.items():\n",
    "                for char_name, metric_dict in char_dict.items():\n",
    "                    tmp = tuple(metric_dict.values())\n",
    "                    out.append( (im_name, class_name, derm_name, char_name) + tmp )\n",
    "    return out"
   ]
  },
  {
   "cell_type": "code",
   "execution_count": 14,
   "id": "62e2cb05",
   "metadata": {},
   "outputs": [
    {
     "data": {
      "text/plain": [
       "19578"
      ]
     },
     "execution_count": 14,
     "metadata": {},
     "output_type": "execute_result"
    }
   ],
   "source": [
    "gradcam_res_list = transform_to_list(out_gradcam)\n",
    "len(gradcam_res_list)"
   ]
  },
  {
   "cell_type": "markdown",
   "id": "ed92cadc",
   "metadata": {},
   "source": [
    "## Make output dataFrames/csv files"
   ]
  },
  {
   "cell_type": "code",
   "execution_count": 18,
   "id": "5fe708bc",
   "metadata": {},
   "outputs": [],
   "source": [
    "col_names = ['image_name',\n",
    "             'visualisation_class',\n",
    "             'derm',\n",
    "             'characteristic',\n",
    "             'iou',\n",
    "             'dice',\n",
    "             'precision',\n",
    "             'recall',\n",
    "             'negative_predictive_value',\n",
    "             'specificity'\n",
    "            ]"
   ]
  },
  {
   "cell_type": "code",
   "execution_count": null,
   "id": "722e3353",
   "metadata": {},
   "outputs": [],
   "source": [
    "gradcam_df = pd.DataFrame.from_records(gradcam_res_list, columns=col_names)\n",
    "gradcam_df"
   ]
  },
  {
   "cell_type": "code",
   "execution_count": 22,
   "id": "6e67c7e3",
   "metadata": {},
   "outputs": [],
   "source": [
    "# Save dataFrames\n",
    "model_name = str(model_path)\n",
    "gradcam_df.to_csv(model_name + \"_gradcam_scores.csv\")"
   ]
  },
  {
   "cell_type": "markdown",
   "id": "2350c73f",
   "metadata": {},
   "source": [
    "\n",
    "# Filter"
   ]
  },
  {
   "cell_type": "code",
   "execution_count": 123,
   "id": "daf5547f",
   "metadata": {},
   "outputs": [],
   "source": [
    "import glob\n",
    "model_names = glob.glob('/home/ubuntu/store/efficientnet-final-size/*h5')"
   ]
  },
  {
   "cell_type": "code",
   "execution_count": 124,
   "id": "c71aaedd",
   "metadata": {},
   "outputs": [
    {
     "data": {
      "text/plain": [
       "['/home/ubuntu/store/efficientnet-final-size/efficientnetb4_4.h5',\n",
       " '/home/ubuntu/store/efficientnet-final-size/efficientnetb4_0.h5',\n",
       " '/home/ubuntu/store/efficientnet-final-size/efficientnetb4_2.h5',\n",
       " '/home/ubuntu/store/efficientnet-final-size/efficientnetb4_3.h5',\n",
       " '/home/ubuntu/store/efficientnet-final-size/efficientnetb4_1.h5']"
      ]
     },
     "execution_count": 124,
     "metadata": {},
     "output_type": "execute_result"
    }
   ],
   "source": [
    "model_names"
   ]
  },
  {
   "cell_type": "code",
   "execution_count": 125,
   "id": "61b1d287",
   "metadata": {},
   "outputs": [],
   "source": [
    "model_name = Path(model_names[1]).stem"
   ]
  },
  {
   "cell_type": "code",
   "execution_count": 126,
   "id": "a6e2f43c",
   "metadata": {},
   "outputs": [],
   "source": [
    "def get_table(results_pred):\n",
    "    results_mean = results_pred.groupby('characteristic').median()\n",
    "    results_std =  results_pred.groupby('characteristic').mad()\n",
    "    \n",
    "    ### Add means\n",
    "    results_mean.loc['mean'] = results_mean.mean()\n",
    "    results_std.loc['mean']   = results_mean.mean()\n",
    "    \n",
    "    columns = results_mean.columns.to_list()\n",
    "\n",
    "    table_pred = results_mean\n",
    "    return table_pred\n",
    "\n",
    "class_map = {'0' : 'Acne' ,\n",
    "             '1' : 'Actinic keratosis',\n",
    "             '2' : 'Psoriasis' ,\n",
    "             '3' : 'Seborrheic dermatitis',\n",
    "             '4' : 'Viral warts',\n",
    "             '5' : 'Vitiligo'}\n",
    "\n",
    "filefolder = model_name + \"_gradcam_scores.csv\"\n",
    "predsfile = '/home/ubuntu/store/efficientnet-final-size/' + model_name + '_preds.csv'"
   ]
  },
  {
   "cell_type": "code",
   "execution_count": 127,
   "id": "0dfcbe57",
   "metadata": {},
   "outputs": [],
   "source": [
    "filtered_subjects = pd.read_csv('./include_images_525.csv')\n",
    "filtered_subjects['image_id'] = filtered_subjects['image_id'].apply(lambda x: Path(x).stem)\n",
    "filtered_subjects = filtered_subjects.rename(columns={'image_id': 'image_name'})\n",
    "filtered_subjects = filtered_subjects.drop(columns=['Unnamed: 0'])"
   ]
  },
  {
   "cell_type": "code",
   "execution_count": 128,
   "id": "1cb8c815",
   "metadata": {},
   "outputs": [],
   "source": [
    "df_preds = pd.read_pickle(predsfile)\n",
    "gradcam_df = pd.read_csv(filefolder)\n",
    "gradcam_df=gradcam_df.drop(['Unnamed: 0'], axis=1)"
   ]
  },
  {
   "cell_type": "code",
   "execution_count": 129,
   "id": "f9602735",
   "metadata": {},
   "outputs": [],
   "source": [
    "df_preds['pred'] =  df_preds['pred'].apply(lambda x: class_map[str(x)])\n",
    "df_preds['actual'] = df_preds['actual'].apply(lambda x: class_map[str(x)])\n",
    "df_preds['filenames'] = df_preds['filenames'].apply(lambda x: Path(x).stem)\n",
    "df_preds = df_preds.rename(columns={'filenames':'image_name'})\n",
    "df_preds = df_preds.merge(filtered_subjects, on = 'image_name')"
   ]
  },
  {
   "cell_type": "code",
   "execution_count": 32,
   "id": "b1989ded",
   "metadata": {},
   "outputs": [],
   "source": [
    "result = pd.merge(gradcam_df,df_preds, on = 'image_name')\n",
    "\n",
    "results_pred = result[result.visualisation_class == result.pred]\n",
    "table_pred = get_table(results_pred)\n",
    "# Get it for actual\n",
    "results_actual = result[result.visualisation_class == result.actual  ]\n",
    "table_actual = get_table(results_actual)\n",
    "\n",
    "table_pred.to_pickle('./' + model_name + '_gradcam_visualisation_scores_pred.pkl')\n",
    "table_actual.to_pickle('./' + model_name + '_gradcam_visualisation_scores_actual.pkl')\n",
    "\n",
    "results_equal = result[ (result.actual == result.pred) & (result.visualisation_class == result.pred) ]\n",
    "table_equal = get_table(results_equal)\n",
    "\n",
    "results_diff = result[ (result.actual != result.pred) & (result.visualisation_class == result.pred) ]\n",
    "table_diff = get_table(results_diff)\n",
    "\n",
    "table_equal.to_pickle('./' + model_name + '_gradcam_visualisation_scores_equal.pkl')\n",
    "table_diff.to_pickle('./' + model_name + '_gradcam_visualisation_scores_diff.pkl')"
   ]
  },
  {
   "cell_type": "markdown",
   "id": "6daebeb2",
   "metadata": {},
   "source": [
    "# Creating Benchmarks"
   ]
  },
  {
   "cell_type": "markdown",
   "id": "85c42a84",
   "metadata": {},
   "source": [
    "## By concatenation of all models"
   ]
  },
  {
   "cell_type": "code",
   "execution_count": 89,
   "id": "c6d330cd",
   "metadata": {},
   "outputs": [],
   "source": [
    "def lt_format(results_performance, col_n):\n",
    "    results_mean = results_performance.groupby(col_n).mean()\n",
    "    results_std = results_performance.groupby(col_n).std()\n",
    "    \n",
    "    results_mean.loc['mean'] = results_mean.mean()\n",
    "    results_std.loc['mean'] = results_std.mean()\n",
    "    for col in results_performance.columns.to_list():\n",
    "        results_mean[col] = results_mean[col].apply(lambda x: f'{np.round(x,decimals=2)} $\\pm$ ')\n",
    "        results_std[col] = results_std[col].apply(lambda x: f'{np.round(x,decimals=2)}')\n",
    "    \n",
    "    return results_mean + results_std\n",
    "\n",
    "model_names = glob.glob('/home/ubuntu/store/efficientnet-final-size/*h5')\n",
    "results_actual = pd.DataFrame()\n",
    "results_pred = pd.DataFrame()\n",
    "results_equal = pd.DataFrame()\n",
    "results_diff = pd.DataFrame()\n",
    "results_performance = pd.DataFrame()\n",
    "\n",
    "for mn in sorted(model_names):\n",
    "    model_name = Path(mn).stem\n",
    "    performance = pd.read_pickle('./' + model_name + '_performance.pkl')\n",
    "    actual = pd.read_pickle('./' + model_name + '_gradcam_visualisation_scores_actual.pkl').loc[:,['recall','specificity','dice']]\n",
    "    pred = pd.read_pickle('./' + model_name + '_gradcam_visualisation_scores_pred.pkl').loc[:,['recall','specificity','dice']]\n",
    "    equal = pd.read_pickle('./' + model_name + '_gradcam_visualisation_scores_equal.pkl').loc[:,['recall','specificity','dice']]\n",
    "    diff = pd.read_pickle('./' + model_name + '_gradcam_visualisation_scores_diff.pkl').loc[:,['recall','specificity','dice']]\n",
    "    \n",
    "    performance=performance.drop('mean')\n",
    "    actual = actual.drop('mean')\n",
    "    pred = pred.drop('mean')\n",
    "    equal = equal.drop('mean')\n",
    "    diff = diff.drop('mean')\n",
    "    \n",
    "    results_performance = pd.concat([results_performance, performance])\n",
    "    results_actual = pd.concat([results_actual, actual])\n",
    "    results_pred = pd.concat([results_pred, pred]) \n",
    "    results_diff = pd.concat([results_diff, diff])\n",
    "\n",
    "results_performance.index.name = 'label'\n",
    "\n",
    "table_performance = lt_format(results_performance, 'label')\n",
    "table_actual = lt_format(results_actual, 'characteristic')"
   ]
  },
  {
   "cell_type": "code",
   "execution_count": 90,
   "id": "4bd772d7",
   "metadata": {},
   "outputs": [],
   "source": [
    "table_performance = table_performance.drop(columns = ['accuracy'])"
   ]
  },
  {
   "cell_type": "code",
   "execution_count": 91,
   "id": "9bf6f9d7",
   "metadata": {},
   "outputs": [
    {
     "data": {
      "text/html": [
       "<div>\n",
       "<style scoped>\n",
       "    .dataframe tbody tr th:only-of-type {\n",
       "        vertical-align: middle;\n",
       "    }\n",
       "\n",
       "    .dataframe tbody tr th {\n",
       "        vertical-align: top;\n",
       "    }\n",
       "\n",
       "    .dataframe thead th {\n",
       "        text-align: right;\n",
       "    }\n",
       "</style>\n",
       "<table border=\"1\" class=\"dataframe\">\n",
       "  <thead>\n",
       "    <tr style=\"text-align: right;\">\n",
       "      <th></th>\n",
       "      <th>precision</th>\n",
       "      <th>f1-score</th>\n",
       "      <th>specificity</th>\n",
       "    </tr>\n",
       "    <tr>\n",
       "      <th>label</th>\n",
       "      <th></th>\n",
       "      <th></th>\n",
       "      <th></th>\n",
       "    </tr>\n",
       "  </thead>\n",
       "  <tbody>\n",
       "    <tr>\n",
       "      <th>acne</th>\n",
       "      <td>0.77 $\\pm$ 0.16</td>\n",
       "      <td>0.65 $\\pm$ 0.32</td>\n",
       "      <td>0.97 $\\pm$ 0.02</td>\n",
       "    </tr>\n",
       "    <tr>\n",
       "      <th>actinic_keratosis</th>\n",
       "      <td>0.74 $\\pm$ 0.08</td>\n",
       "      <td>0.55 $\\pm$ 0.11</td>\n",
       "      <td>0.96 $\\pm$ 0.02</td>\n",
       "    </tr>\n",
       "    <tr>\n",
       "      <th>psoriasis_no_pustular</th>\n",
       "      <td>0.43 $\\pm$ 0.14</td>\n",
       "      <td>0.57 $\\pm$ 0.12</td>\n",
       "      <td>0.67 $\\pm$ 0.23</td>\n",
       "    </tr>\n",
       "    <tr>\n",
       "      <th>seborrheic_dermatitis</th>\n",
       "      <td>0.62 $\\pm$ 0.08</td>\n",
       "      <td>0.45 $\\pm$ 0.22</td>\n",
       "      <td>0.95 $\\pm$ 0.03</td>\n",
       "    </tr>\n",
       "    <tr>\n",
       "      <th>vitiligo</th>\n",
       "      <td>0.0 $\\pm$ 0.01</td>\n",
       "      <td>0.0 $\\pm$ 0.01</td>\n",
       "      <td>0.9 $\\pm$ 0.03</td>\n",
       "    </tr>\n",
       "    <tr>\n",
       "      <th>wart</th>\n",
       "      <td>0.08 $\\pm$ 0.04</td>\n",
       "      <td>0.07 $\\pm$ 0.04</td>\n",
       "      <td>0.86 $\\pm$ 0.04</td>\n",
       "    </tr>\n",
       "    <tr>\n",
       "      <th>mean</th>\n",
       "      <td>0.44 $\\pm$ 0.08</td>\n",
       "      <td>0.38 $\\pm$ 0.14</td>\n",
       "      <td>0.89 $\\pm$ 0.06</td>\n",
       "    </tr>\n",
       "  </tbody>\n",
       "</table>\n",
       "</div>"
      ],
      "text/plain": [
       "                             precision         f1-score      specificity\n",
       "label                                                                   \n",
       "acne                   0.77 $\\pm$ 0.16  0.65 $\\pm$ 0.32  0.97 $\\pm$ 0.02\n",
       "actinic_keratosis      0.74 $\\pm$ 0.08  0.55 $\\pm$ 0.11  0.96 $\\pm$ 0.02\n",
       "psoriasis_no_pustular  0.43 $\\pm$ 0.14  0.57 $\\pm$ 0.12  0.67 $\\pm$ 0.23\n",
       "seborrheic_dermatitis  0.62 $\\pm$ 0.08  0.45 $\\pm$ 0.22  0.95 $\\pm$ 0.03\n",
       "vitiligo                0.0 $\\pm$ 0.01   0.0 $\\pm$ 0.01   0.9 $\\pm$ 0.03\n",
       "wart                   0.08 $\\pm$ 0.04  0.07 $\\pm$ 0.04  0.86 $\\pm$ 0.04\n",
       "mean                   0.44 $\\pm$ 0.08  0.38 $\\pm$ 0.14  0.89 $\\pm$ 0.06"
      ]
     },
     "execution_count": 91,
     "metadata": {},
     "output_type": "execute_result"
    }
   ],
   "source": [
    "table_performance"
   ]
  },
  {
   "cell_type": "code",
   "execution_count": 87,
   "id": "1a1e6b7f",
   "metadata": {},
   "outputs": [
    {
     "name": "stdout",
     "output_type": "stream",
     "text": [
      "\\begin{tabular}{llll}\n",
      "\\toprule\n",
      "{} &        precision &         f1-score &      specificity \\\\\n",
      "label                 &                  &                  &                  \\\\\n",
      "\\midrule\n",
      "acne                  &  0.77 \\$\\textbackslash pm\\$ 0.16 &  0.65 \\$\\textbackslash pm\\$ 0.32 &  0.97 \\$\\textbackslash pm\\$ 0.02 \\\\\n",
      "actinic\\_keratosis     &  0.74 \\$\\textbackslash pm\\$ 0.08 &  0.55 \\$\\textbackslash pm\\$ 0.11 &  0.96 \\$\\textbackslash pm\\$ 0.02 \\\\\n",
      "psoriasis\\_no\\_pustular &  0.43 \\$\\textbackslash pm\\$ 0.14 &  0.57 \\$\\textbackslash pm\\$ 0.12 &  0.67 \\$\\textbackslash pm\\$ 0.23 \\\\\n",
      "seborrheic\\_dermatitis &  0.62 \\$\\textbackslash pm\\$ 0.08 &  0.45 \\$\\textbackslash pm\\$ 0.22 &  0.95 \\$\\textbackslash pm\\$ 0.03 \\\\\n",
      "vitiligo              &   0.0 \\$\\textbackslash pm\\$ 0.01 &   0.0 \\$\\textbackslash pm\\$ 0.01 &   0.9 \\$\\textbackslash pm\\$ 0.03 \\\\\n",
      "wart                  &  0.08 \\$\\textbackslash pm\\$ 0.04 &  0.07 \\$\\textbackslash pm\\$ 0.04 &  0.86 \\$\\textbackslash pm\\$ 0.04 \\\\\n",
      "mean                  &  0.44 \\$\\textbackslash pm\\$ 0.08 &  0.38 \\$\\textbackslash pm\\$ 0.14 &  0.89 \\$\\textbackslash pm\\$ 0.06 \\\\\n",
      "\\bottomrule\n",
      "\\end{tabular}\n",
      "\n"
     ]
    }
   ],
   "source": [
    "print(table_performance.to_latex())"
   ]
  },
  {
   "cell_type": "code",
   "execution_count": 39,
   "id": "ca25fe08",
   "metadata": {},
   "outputs": [
    {
     "data": {
      "text/html": [
       "<div>\n",
       "<style scoped>\n",
       "    .dataframe tbody tr th:only-of-type {\n",
       "        vertical-align: middle;\n",
       "    }\n",
       "\n",
       "    .dataframe tbody tr th {\n",
       "        vertical-align: top;\n",
       "    }\n",
       "\n",
       "    .dataframe thead th {\n",
       "        text-align: right;\n",
       "    }\n",
       "</style>\n",
       "<table border=\"1\" class=\"dataframe\">\n",
       "  <thead>\n",
       "    <tr style=\"text-align: right;\">\n",
       "      <th></th>\n",
       "      <th>recall</th>\n",
       "      <th>specificity</th>\n",
       "      <th>dice</th>\n",
       "    </tr>\n",
       "    <tr>\n",
       "      <th>characteristic</th>\n",
       "      <th></th>\n",
       "      <th></th>\n",
       "      <th></th>\n",
       "    </tr>\n",
       "  </thead>\n",
       "  <tbody>\n",
       "    <tr>\n",
       "      <th>closed-comedo</th>\n",
       "      <td>0.21 $\\pm$ 0.1</td>\n",
       "      <td>0.83 $\\pm$ 0.04</td>\n",
       "      <td>0.08 $\\pm$ 0.03</td>\n",
       "    </tr>\n",
       "    <tr>\n",
       "      <th>cyst</th>\n",
       "      <td>0.2 $\\pm$ 0.14</td>\n",
       "      <td>0.85 $\\pm$ 0.03</td>\n",
       "      <td>0.02 $\\pm$ 0.01</td>\n",
       "    </tr>\n",
       "    <tr>\n",
       "      <th>dermatoglyph-disruption</th>\n",
       "      <td>0.09 $\\pm$ 0.05</td>\n",
       "      <td>0.79 $\\pm$ 0.06</td>\n",
       "      <td>0.05 $\\pm$ 0.02</td>\n",
       "    </tr>\n",
       "    <tr>\n",
       "      <th>leukotrichia</th>\n",
       "      <td>0.14 $\\pm$ 0.1</td>\n",
       "      <td>0.82 $\\pm$ 0.04</td>\n",
       "      <td>0.07 $\\pm$ 0.03</td>\n",
       "    </tr>\n",
       "    <tr>\n",
       "      <th>macule</th>\n",
       "      <td>0.27 $\\pm$ 0.07</td>\n",
       "      <td>0.8 $\\pm$ 0.03</td>\n",
       "      <td>0.09 $\\pm$ 0.03</td>\n",
       "    </tr>\n",
       "    <tr>\n",
       "      <th>nodule</th>\n",
       "      <td>0.2 $\\pm$ 0.08</td>\n",
       "      <td>0.82 $\\pm$ 0.03</td>\n",
       "      <td>0.03 $\\pm$ 0.01</td>\n",
       "    </tr>\n",
       "    <tr>\n",
       "      <th>open-comedo</th>\n",
       "      <td>0.19 $\\pm$ 0.1</td>\n",
       "      <td>0.83 $\\pm$ 0.04</td>\n",
       "      <td>0.08 $\\pm$ 0.04</td>\n",
       "    </tr>\n",
       "    <tr>\n",
       "      <th>papule</th>\n",
       "      <td>0.23 $\\pm$ 0.07</td>\n",
       "      <td>0.8 $\\pm$ 0.03</td>\n",
       "      <td>0.07 $\\pm$ 0.01</td>\n",
       "    </tr>\n",
       "    <tr>\n",
       "      <th>patch</th>\n",
       "      <td>0.28 $\\pm$ 0.06</td>\n",
       "      <td>0.8 $\\pm$ 0.03</td>\n",
       "      <td>0.21 $\\pm$ 0.04</td>\n",
       "    </tr>\n",
       "    <tr>\n",
       "      <th>plaque</th>\n",
       "      <td>0.38 $\\pm$ 0.03</td>\n",
       "      <td>0.81 $\\pm$ 0.04</td>\n",
       "      <td>0.29 $\\pm$ 0.01</td>\n",
       "    </tr>\n",
       "    <tr>\n",
       "      <th>pustule</th>\n",
       "      <td>0.28 $\\pm$ 0.14</td>\n",
       "      <td>0.82 $\\pm$ 0.05</td>\n",
       "      <td>0.02 $\\pm$ 0.01</td>\n",
       "    </tr>\n",
       "    <tr>\n",
       "      <th>scale</th>\n",
       "      <td>0.44 $\\pm$ 0.03</td>\n",
       "      <td>0.8 $\\pm$ 0.04</td>\n",
       "      <td>0.26 $\\pm$ 0.01</td>\n",
       "    </tr>\n",
       "    <tr>\n",
       "      <th>scar</th>\n",
       "      <td>0.25 $\\pm$ 0.13</td>\n",
       "      <td>0.82 $\\pm$ 0.03</td>\n",
       "      <td>0.16 $\\pm$ 0.09</td>\n",
       "    </tr>\n",
       "    <tr>\n",
       "      <th>sun-damage</th>\n",
       "      <td>0.31 $\\pm$ 0.05</td>\n",
       "      <td>0.9 $\\pm$ 0.02</td>\n",
       "      <td>0.42 $\\pm$ 0.05</td>\n",
       "    </tr>\n",
       "    <tr>\n",
       "      <th>telangiectasia</th>\n",
       "      <td>0.35 $\\pm$ 0.04</td>\n",
       "      <td>0.79 $\\pm$ 0.04</td>\n",
       "      <td>0.14 $\\pm$ 0.01</td>\n",
       "    </tr>\n",
       "    <tr>\n",
       "      <th>thrombosed-capillaries</th>\n",
       "      <td>0.07 $\\pm$ 0.02</td>\n",
       "      <td>0.8 $\\pm$ 0.05</td>\n",
       "      <td>0.01 $\\pm$ 0.01</td>\n",
       "    </tr>\n",
       "    <tr>\n",
       "      <th>mean</th>\n",
       "      <td>0.24 $\\pm$ 0.07</td>\n",
       "      <td>0.82 $\\pm$ 0.04</td>\n",
       "      <td>0.12 $\\pm$ 0.02</td>\n",
       "    </tr>\n",
       "  </tbody>\n",
       "</table>\n",
       "</div>"
      ],
      "text/plain": [
       "                                  recall      specificity             dice\n",
       "characteristic                                                            \n",
       "closed-comedo             0.21 $\\pm$ 0.1  0.83 $\\pm$ 0.04  0.08 $\\pm$ 0.03\n",
       "cyst                      0.2 $\\pm$ 0.14  0.85 $\\pm$ 0.03  0.02 $\\pm$ 0.01\n",
       "dermatoglyph-disruption  0.09 $\\pm$ 0.05  0.79 $\\pm$ 0.06  0.05 $\\pm$ 0.02\n",
       "leukotrichia              0.14 $\\pm$ 0.1  0.82 $\\pm$ 0.04  0.07 $\\pm$ 0.03\n",
       "macule                   0.27 $\\pm$ 0.07   0.8 $\\pm$ 0.03  0.09 $\\pm$ 0.03\n",
       "nodule                    0.2 $\\pm$ 0.08  0.82 $\\pm$ 0.03  0.03 $\\pm$ 0.01\n",
       "open-comedo               0.19 $\\pm$ 0.1  0.83 $\\pm$ 0.04  0.08 $\\pm$ 0.04\n",
       "papule                   0.23 $\\pm$ 0.07   0.8 $\\pm$ 0.03  0.07 $\\pm$ 0.01\n",
       "patch                    0.28 $\\pm$ 0.06   0.8 $\\pm$ 0.03  0.21 $\\pm$ 0.04\n",
       "plaque                   0.38 $\\pm$ 0.03  0.81 $\\pm$ 0.04  0.29 $\\pm$ 0.01\n",
       "pustule                  0.28 $\\pm$ 0.14  0.82 $\\pm$ 0.05  0.02 $\\pm$ 0.01\n",
       "scale                    0.44 $\\pm$ 0.03   0.8 $\\pm$ 0.04  0.26 $\\pm$ 0.01\n",
       "scar                     0.25 $\\pm$ 0.13  0.82 $\\pm$ 0.03  0.16 $\\pm$ 0.09\n",
       "sun-damage               0.31 $\\pm$ 0.05   0.9 $\\pm$ 0.02  0.42 $\\pm$ 0.05\n",
       "telangiectasia           0.35 $\\pm$ 0.04  0.79 $\\pm$ 0.04  0.14 $\\pm$ 0.01\n",
       "thrombosed-capillaries   0.07 $\\pm$ 0.02   0.8 $\\pm$ 0.05  0.01 $\\pm$ 0.01\n",
       "mean                     0.24 $\\pm$ 0.07  0.82 $\\pm$ 0.04  0.12 $\\pm$ 0.02"
      ]
     },
     "execution_count": 39,
     "metadata": {},
     "output_type": "execute_result"
    }
   ],
   "source": [
    "table_actual"
   ]
  },
  {
   "cell_type": "code",
   "execution_count": 40,
   "id": "5b136c69",
   "metadata": {},
   "outputs": [
    {
     "name": "stdout",
     "output_type": "stream",
     "text": [
      "\\begin{tabular}{llll}\n",
      "\\toprule\n",
      "{} &             dice &           recall &      specificity \\\\\n",
      "characteristic          &                  &                  &                  \\\\\n",
      "\\midrule\n",
      "closed-comedo           &  0.08 \\$\\textbackslash pm\\$ 0.03 &   0.21 \\$\\textbackslash pm\\$ 0.1 &  0.83 \\$\\textbackslash pm\\$ 0.04 \\\\\n",
      "cyst                    &  0.02 \\$\\textbackslash pm\\$ 0.01 &   0.2 \\$\\textbackslash pm\\$ 0.14 &  0.85 \\$\\textbackslash pm\\$ 0.03 \\\\\n",
      "dermatoglyph-disruption &  0.05 \\$\\textbackslash pm\\$ 0.02 &  0.09 \\$\\textbackslash pm\\$ 0.05 &  0.79 \\$\\textbackslash pm\\$ 0.06 \\\\\n",
      "leukotrichia            &  0.07 \\$\\textbackslash pm\\$ 0.03 &   0.14 \\$\\textbackslash pm\\$ 0.1 &  0.82 \\$\\textbackslash pm\\$ 0.04 \\\\\n",
      "macule                  &  0.09 \\$\\textbackslash pm\\$ 0.03 &  0.27 \\$\\textbackslash pm\\$ 0.07 &   0.8 \\$\\textbackslash pm\\$ 0.03 \\\\\n",
      "nodule                  &  0.03 \\$\\textbackslash pm\\$ 0.01 &   0.2 \\$\\textbackslash pm\\$ 0.08 &  0.82 \\$\\textbackslash pm\\$ 0.03 \\\\\n",
      "open-comedo             &  0.08 \\$\\textbackslash pm\\$ 0.04 &   0.19 \\$\\textbackslash pm\\$ 0.1 &  0.83 \\$\\textbackslash pm\\$ 0.04 \\\\\n",
      "papule                  &  0.07 \\$\\textbackslash pm\\$ 0.01 &  0.23 \\$\\textbackslash pm\\$ 0.07 &   0.8 \\$\\textbackslash pm\\$ 0.03 \\\\\n",
      "patch                   &  0.21 \\$\\textbackslash pm\\$ 0.04 &  0.28 \\$\\textbackslash pm\\$ 0.06 &   0.8 \\$\\textbackslash pm\\$ 0.03 \\\\\n",
      "plaque                  &  0.29 \\$\\textbackslash pm\\$ 0.01 &  0.38 \\$\\textbackslash pm\\$ 0.03 &  0.81 \\$\\textbackslash pm\\$ 0.04 \\\\\n",
      "pustule                 &  0.02 \\$\\textbackslash pm\\$ 0.01 &  0.28 \\$\\textbackslash pm\\$ 0.14 &  0.82 \\$\\textbackslash pm\\$ 0.05 \\\\\n",
      "scale                   &  0.26 \\$\\textbackslash pm\\$ 0.01 &  0.44 \\$\\textbackslash pm\\$ 0.03 &   0.8 \\$\\textbackslash pm\\$ 0.04 \\\\\n",
      "scar                    &  0.16 \\$\\textbackslash pm\\$ 0.09 &  0.25 \\$\\textbackslash pm\\$ 0.13 &  0.82 \\$\\textbackslash pm\\$ 0.03 \\\\\n",
      "sun-damage              &  0.42 \\$\\textbackslash pm\\$ 0.05 &  0.31 \\$\\textbackslash pm\\$ 0.05 &   0.9 \\$\\textbackslash pm\\$ 0.02 \\\\\n",
      "telangiectasia          &  0.14 \\$\\textbackslash pm\\$ 0.01 &  0.35 \\$\\textbackslash pm\\$ 0.04 &  0.79 \\$\\textbackslash pm\\$ 0.04 \\\\\n",
      "thrombosed-capillaries  &  0.01 \\$\\textbackslash pm\\$ 0.01 &  0.07 \\$\\textbackslash pm\\$ 0.02 &   0.8 \\$\\textbackslash pm\\$ 0.05 \\\\\n",
      "mean                    &  0.12 \\$\\textbackslash pm\\$ 0.02 &  0.24 \\$\\textbackslash pm\\$ 0.07 &  0.82 \\$\\textbackslash pm\\$ 0.04 \\\\\n",
      "\\bottomrule\n",
      "\\end{tabular}\n",
      "\n"
     ]
    }
   ],
   "source": [
    "print(table_actual[['dice','recall','specificity']].to_latex())"
   ]
  },
  {
   "cell_type": "code",
   "execution_count": null,
   "id": "4474b578",
   "metadata": {},
   "outputs": [],
   "source": []
  }
 ],
 "metadata": {
  "kernelspec": {
   "display_name": "tf2_3",
   "language": "python",
   "name": "tf2_3"
  },
  "language_info": {
   "codemirror_mode": {
    "name": "ipython",
    "version": 3
   },
   "file_extension": ".py",
   "mimetype": "text/x-python",
   "name": "python",
   "nbconvert_exporter": "python",
   "pygments_lexer": "ipython3",
   "version": "3.7.5"
  }
 },
 "nbformat": 4,
 "nbformat_minor": 5
}

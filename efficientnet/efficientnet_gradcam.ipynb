{
 "cells": [
  {
   "cell_type": "markdown",
   "id": "a705045d",
   "metadata": {},
   "source": [
    "## Compute Grad-CAM"
   ]
  },
  {
   "cell_type": "code",
   "execution_count": 1,
   "id": "25ee7b15",
   "metadata": {},
   "outputs": [],
   "source": [
    "import tensorflow as tf\n",
    "\n",
    "import sys\n",
    "sys.path.append('/home/ubuntu/store/explanations/')"
   ]
  },
  {
   "cell_type": "code",
   "execution_count": 2,
   "id": "7087ca9e",
   "metadata": {},
   "outputs": [],
   "source": [
    "from tensorflow.keras.applications import EfficientNetB4\n",
    "from tensorflow.keras.layers.experimental import preprocessing\n",
    "from tensorflow.keras.models import Sequential\n",
    "from tensorflow.keras import layers\n",
    "import tensorflow_datasets as tfds\n",
    "\n",
    "import matplotlib.pyplot as plt\n",
    "import numpy as np\n",
    "import tensorflow as tf\n",
    "from tensorflow import keras\n",
    "from PIL import Image as Img\n",
    "\n",
    "# For Grad-CAM\n",
    "import xgradcam\n",
    "from xgradcam import get_img_array\n",
    "from xgradcam import make_gradcam_heatmap\n",
    "from xgradcam import save_and_display_gradcam\n",
    "\n",
    "from pathlib import Path\n",
    "import os\n",
    "import glob\n",
    "import matplotlib.cm as cm \n",
    "from numpy import save\n",
    "from numpy import load\n",
    "from skimage.transform import resize\n",
    "from tensorflow.keras.models import load_model\n",
    "from tensorflow.keras.applications.efficientnet import preprocess_input as efficientnet_preprocessing\n",
    "from tensorflow.keras.preprocessing.image import ImageDataGenerator, DirectoryIterator"
   ]
  },
  {
   "cell_type": "code",
   "execution_count": 4,
   "id": "fa806659",
   "metadata": {},
   "outputs": [],
   "source": [
    "def save_and_display_gradcam(img_array, heatmap, cam_path='', alpha=0.4):\n",
    "    # Load the original image\n",
    "    img = img_array[0]\n",
    "    # Rescale heatmap to a range 0-255    \n",
    "    heatmap = np.uint8(255 * heatmap)\n",
    "    \n",
    "    # Resize heatmap to save \n",
    "    heatmap_resized = resize(heatmap, (300, 400))\n",
    "    \n",
    "    # Use jet colormap to colorize heatmap\n",
    "    jet = cm.get_cmap(\"jet\")\n",
    "\n",
    "    # Use RGB values of the colormap\n",
    "    jet_colors = jet(np.arange(256))[:, :3]\n",
    "    jet_heatmap = jet_colors[heatmap]\n",
    "\n",
    "    # Create an image with RGB colorized heatmap\n",
    "    jet_heatmap = keras.preprocessing.image.array_to_img(jet_heatmap)\n",
    "    jet_heatmap = jet_heatmap.resize((img.shape[1], img.shape[0]))\n",
    "    jet_heatmap = keras.preprocessing.image.img_to_array(jet_heatmap)\n",
    "\n",
    "    # Superimpose the heatmap on original image\n",
    "    superimposed_img = jet_heatmap * alpha + img\n",
    "    superimposed_img = keras.preprocessing.image.array_to_img(superimposed_img)\n",
    "\n",
    "    return superimposed_img, heatmap_resized"
   ]
  },
  {
   "cell_type": "markdown",
   "id": "08238fe4",
   "metadata": {},
   "source": [
    "## Visualizations for EfficientNet"
   ]
  },
  {
   "cell_type": "code",
   "execution_count": 5,
   "id": "ae8c26cd",
   "metadata": {
    "scrolled": true
   },
   "outputs": [],
   "source": [
    "results_path = \"/home/ubuntu/store/efficientnet-final/visualisation/gradcam/\"\n",
    "model_names = glob.glob(\"/home/ubuntu/store/efficientnet-final/*.h5\")\n",
    "\n",
    "for model_path in model_names:\n",
    "    model_name = Path(model_path).stem\n",
    "    model_results_path = os.path.join(results_path, model_name) \n",
    "    # create dir for each model\n",
    "    if not os.path.exists(model_results_path):\n",
    "        os.mkdir(model_results_path)\n",
    "    \n",
    "    model = load_model(Path(model_path))\n",
    "    last_conv_layer_name = 'top_activation'\n",
    "    model.layers[-1].activation = None\n",
    "\n",
    "    data_generator = ImageDataGenerator(\n",
    "        fill_mode='nearest',\n",
    "        preprocessing_function=efficientnet_preprocessing\n",
    "    )\n",
    "    data_iterator = data_generator.flow_from_directory(\n",
    "        '/home/ubuntu/store/DermX-test-set/test', \n",
    "        batch_size=1, \n",
    "        target_size=(300, 400),\n",
    "        class_mode='categorical',\n",
    "        follow_links=True,\n",
    "        interpolation='bilinear',\n",
    "        shuffle=False\n",
    "    )\n",
    "    class_indices = data_iterator.class_indices\n",
    "    \n",
    "    for (img_array, label), img_path in zip(data_iterator, data_iterator.filepaths):\n",
    "        img_name = Path(img_path).stem\n",
    "        preds = model.predict(img_array)\n",
    "        for category in class_indices:\n",
    "            print(model_name, img_name, category)\n",
    "            heatmap = make_gradcam_heatmap(img_array, model, last_conv_layer_name,class_indices[category])\n",
    "            imposed,heat_map_resized = save_and_display_gradcam(img_array, heatmap)\n",
    "            # save files\n",
    "            save(model_results_path + '/' + img_name + '_' +  category + '.npy', heat_map_resized)\n",
    "            imposed.save(model_results_path + '/' + img_name + '_' +  category + '.png')\n",
    "            "
   ]
  },
  {
   "cell_type": "code",
   "execution_count": null,
   "id": "2ca37262",
   "metadata": {},
   "outputs": [],
   "source": []
  }
 ],
 "metadata": {
  "kernelspec": {
   "display_name": "tf2_3",
   "language": "python",
   "name": "tf2_3"
  },
  "language_info": {
   "codemirror_mode": {
    "name": "ipython",
    "version": 3
   },
   "file_extension": ".py",
   "mimetype": "text/x-python",
   "name": "python",
   "nbconvert_exporter": "python",
   "pygments_lexer": "ipython3",
   "version": "3.7.5"
  }
 },
 "nbformat": 4,
 "nbformat_minor": 5
}

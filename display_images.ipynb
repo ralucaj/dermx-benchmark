{
  "nbformat": 4,
  "nbformat_minor": 5,
  "metadata": {
    "kernelspec": {
      "display_name": "Python 3",
      "language": "python",
      "name": "python3"
    },
    "language_info": {
      "codemirror_mode": {
        "name": "ipython",
        "version": 3
      },
      "file_extension": ".py",
      "mimetype": "text/x-python",
      "name": "python",
      "nbconvert_exporter": "python",
      "pygments_lexer": "ipython3",
      "version": "3.6.9"
    },
    "colab": {
      "name": "display_images.ipynb",
      "provenance": []
    }
  },
  "cells": [
    {
      "cell_type": "code",
      "metadata": {
        "id": "f836ca96"
      },
      "source": [
        "import os\n",
        "import pandas as pd"
      ],
      "id": "f836ca96",
      "execution_count": null,
      "outputs": []
    },
    {
      "cell_type": "code",
      "metadata": {
        "id": "05a20d32"
      },
      "source": [
        "resnet_df = pd.read_pickle('resnet50_0_preds.csv')\n",
        "efficientnet_df = pd.read_pickle('efficientnetb4_0_preds.csv')"
      ],
      "id": "05a20d32",
      "execution_count": null,
      "outputs": []
    },
    {
      "cell_type": "code",
      "metadata": {
        "id": "36a53567"
      },
      "source": [
        "def download(images, target_path):\n",
        "    resnet_server = 'ubuntu@ec2-3-250-23-160.eu-west-1.compute.amazonaws.com'\n",
        "    efficientnet_server = 'ubuntu@ec2-54-195-189-117.eu-west-1.compute.amazonaws.com'\n",
        "    masks_path = '/home/ubuntu/store/masks/masks_resized/'\n",
        "    resnet_gradcam_path = '/home/ubuntu/store/resnet-final-size/visualisation/gradcam/resnet50_0/'\n",
        "    efficientnet_gradcam_path = '/home/ubuntu/store/efficientnet-final-size/visualisation/gradcam/efficientnetb4_0/'\n",
        "    \n",
        "    for image in images:\n",
        "        image = image.replace(' ', '\\ ')\n",
        "        # Get base image\n",
        "        print(f\"scp \\\"{resnet_server}:/home/ubuntu/store/DermX-test-set/test/{image}\\\" {target_path}\")\n",
        "        print(os.system(f\"scp \\\"{resnet_server}:/home/ubuntu/store/DermX-test-set/test/{image}\\\" {target_path}\"))\n",
        "        \n",
        "        # Get ResNet GradCAM for the GT class\n",
        "        gradcam_filename = image.replace('.jpeg', '').split('/')\n",
        "        gradcam_filename = gradcam_filename[1] + '_' + gradcam_filename[0] + '.png'\n",
        "        print(f\"scp \\\"{resnet_server}:{resnet_gradcam_path}{gradcam_filename}\\\" {target_path}\")\n",
        "        print(os.system(f\"scp \\\"{resnet_server}:{resnet_gradcam_path}{gradcam_filename}\\\" {target_path}resnet/\"))\n",
        "        \n",
        "        # Get EfficientNet GradCAM for the GT class\n",
        "        print(f\"scp \\\"{efficientnet_server}:{efficientnet_gradcam_path}{gradcam_filename}\\\" {target_path}\")\n",
        "        print(os.system(f\"scp \\\"{efficientnet_server}:{efficientnet_gradcam_path}{gradcam_filename}\\\" {target_path}efficientnet/\"))\n",
        "        \n",
        "        # Get derm masks\n",
        "        print(f\"scp \\\"{resnet_server}:{masks_path}{image.split('/')[1].replace('.jpeg', '')}*\\\" {target_path}\")\n",
        "        print(os.system(f\"scp \\\"{resnet_server}:{masks_path}{image.split('/')[1].replace('.jpeg', '')}*\\\" {target_path}\"))"
      ],
      "id": "36a53567",
      "execution_count": null,
      "outputs": []
    },
    {
      "cell_type": "code",
      "metadata": {
        "id": "7028509d"
      },
      "source": [
        "full_df = resnet_df.merge(efficientnet_df, left_on='filenames', right_on='filenames', suffixes=('_resnet', '_efficientnet'))\n",
        "full_df"
      ],
      "id": "7028509d",
      "execution_count": null,
      "outputs": []
    },
    {
      "cell_type": "code",
      "metadata": {
        "id": "c989863e"
      },
      "source": [
        "both_correct = full_df[(full_df['actual_resnet'] == full_df['pred_resnet']) & (full_df['actual_resnet'] == full_df['pred_efficientnet'])]\n",
        "both_correct"
      ],
      "id": "c989863e",
      "execution_count": null,
      "outputs": []
    },
    {
      "cell_type": "code",
      "metadata": {
        "id": "0ff215d1",
        "outputId": "0ae1e171-09f5-4978-f19d-a2d9a985a2be"
      },
      "source": [
        "both_correct.groupby('actual_resnet').first()"
      ],
      "id": "0ff215d1",
      "execution_count": null,
      "outputs": [
        {
          "output_type": "execute_result",
          "data": {
            "text/html": [
              "<div>\n",
              "<style scoped>\n",
              "    .dataframe tbody tr th:only-of-type {\n",
              "        vertical-align: middle;\n",
              "    }\n",
              "\n",
              "    .dataframe tbody tr th {\n",
              "        vertical-align: top;\n",
              "    }\n",
              "\n",
              "    .dataframe thead th {\n",
              "        text-align: right;\n",
              "    }\n",
              "</style>\n",
              "<table border=\"1\" class=\"dataframe\">\n",
              "  <thead>\n",
              "    <tr style=\"text-align: right;\">\n",
              "      <th></th>\n",
              "      <th>pred_resnet</th>\n",
              "      <th>filenames</th>\n",
              "      <th>actual_efficientnet</th>\n",
              "      <th>pred_efficientnet</th>\n",
              "    </tr>\n",
              "    <tr>\n",
              "      <th>actual_resnet</th>\n",
              "      <th></th>\n",
              "      <th></th>\n",
              "      <th></th>\n",
              "      <th></th>\n",
              "    </tr>\n",
              "  </thead>\n",
              "  <tbody>\n",
              "    <tr>\n",
              "      <th>0</th>\n",
              "      <td>0</td>\n",
              "      <td>Acne/032879HB.jpeg</td>\n",
              "      <td>0</td>\n",
              "      <td>0</td>\n",
              "    </tr>\n",
              "    <tr>\n",
              "      <th>1</th>\n",
              "      <td>1</td>\n",
              "      <td>Actinic keratosis/005103HB.jpeg</td>\n",
              "      <td>1</td>\n",
              "      <td>1</td>\n",
              "    </tr>\n",
              "    <tr>\n",
              "      <th>2</th>\n",
              "      <td>2</td>\n",
              "      <td>Psoriasis/043446HB.jpeg</td>\n",
              "      <td>2</td>\n",
              "      <td>2</td>\n",
              "    </tr>\n",
              "    <tr>\n",
              "      <th>3</th>\n",
              "      <td>3</td>\n",
              "      <td>Seborrheic dermatitis/042355HB.jpeg</td>\n",
              "      <td>3</td>\n",
              "      <td>3</td>\n",
              "    </tr>\n",
              "    <tr>\n",
              "      <th>5</th>\n",
              "      <td>5</td>\n",
              "      <td>Vitiligo/10489-Vitiligo.jpeg</td>\n",
              "      <td>5</td>\n",
              "      <td>5</td>\n",
              "    </tr>\n",
              "  </tbody>\n",
              "</table>\n",
              "</div>"
            ],
            "text/plain": [
              "               pred_resnet                            filenames  \\\n",
              "actual_resnet                                                     \n",
              "0                        0                   Acne/032879HB.jpeg   \n",
              "1                        1      Actinic keratosis/005103HB.jpeg   \n",
              "2                        2              Psoriasis/043446HB.jpeg   \n",
              "3                        3  Seborrheic dermatitis/042355HB.jpeg   \n",
              "5                        5         Vitiligo/10489-Vitiligo.jpeg   \n",
              "\n",
              "               actual_efficientnet  pred_efficientnet  \n",
              "actual_resnet                                          \n",
              "0                                0                  0  \n",
              "1                                1                  1  \n",
              "2                                2                  2  \n",
              "3                                3                  3  \n",
              "5                                5                  5  "
            ]
          },
          "metadata": {
            "tags": []
          },
          "execution_count": 282
        }
      ]
    },
    {
      "cell_type": "code",
      "metadata": {
        "scrolled": true,
        "id": "11e86d6b"
      },
      "source": [
        "download(both_correct.groupby('actual_resnet').first()['filenames'].values, '/mnt/c/Users/raluca/Downloads/appendix_pictures/both/')"
      ],
      "id": "11e86d6b",
      "execution_count": null,
      "outputs": []
    },
    {
      "cell_type": "code",
      "metadata": {
        "id": "c5015126"
      },
      "source": [
        "resnet_correct = full_df[(full_df['actual_resnet'] == full_df['pred_resnet']) & (full_df['actual_resnet'] != full_df['pred_efficientnet'])]\n",
        "resnet_correct"
      ],
      "id": "c5015126",
      "execution_count": null,
      "outputs": []
    },
    {
      "cell_type": "code",
      "metadata": {
        "id": "cf8beddc",
        "outputId": "a3e79f53-5ccf-4850-d130-8394924c2e91"
      },
      "source": [
        "resnet_correct.groupby('actual_resnet').first()"
      ],
      "id": "cf8beddc",
      "execution_count": null,
      "outputs": [
        {
          "output_type": "execute_result",
          "data": {
            "text/html": [
              "<div>\n",
              "<style scoped>\n",
              "    .dataframe tbody tr th:only-of-type {\n",
              "        vertical-align: middle;\n",
              "    }\n",
              "\n",
              "    .dataframe tbody tr th {\n",
              "        vertical-align: top;\n",
              "    }\n",
              "\n",
              "    .dataframe thead th {\n",
              "        text-align: right;\n",
              "    }\n",
              "</style>\n",
              "<table border=\"1\" class=\"dataframe\">\n",
              "  <thead>\n",
              "    <tr style=\"text-align: right;\">\n",
              "      <th></th>\n",
              "      <th>pred_resnet</th>\n",
              "      <th>filenames</th>\n",
              "      <th>actual_efficientnet</th>\n",
              "      <th>pred_efficientnet</th>\n",
              "    </tr>\n",
              "    <tr>\n",
              "      <th>actual_resnet</th>\n",
              "      <th></th>\n",
              "      <th></th>\n",
              "      <th></th>\n",
              "      <th></th>\n",
              "    </tr>\n",
              "  </thead>\n",
              "  <tbody>\n",
              "    <tr>\n",
              "      <th>0</th>\n",
              "      <td>0</td>\n",
              "      <td>Acne/033370HB.jpeg</td>\n",
              "      <td>0</td>\n",
              "      <td>1</td>\n",
              "    </tr>\n",
              "    <tr>\n",
              "      <th>1</th>\n",
              "      <td>1</td>\n",
              "      <td>Actinic keratosis/016730HB.jpeg</td>\n",
              "      <td>1</td>\n",
              "      <td>2</td>\n",
              "    </tr>\n",
              "    <tr>\n",
              "      <th>2</th>\n",
              "      <td>2</td>\n",
              "      <td>Psoriasis/facial-psoriasis12--WatermarkedWyJXY...</td>\n",
              "      <td>2</td>\n",
              "      <td>3</td>\n",
              "    </tr>\n",
              "    <tr>\n",
              "      <th>3</th>\n",
              "      <td>3</td>\n",
              "      <td>Seborrheic dermatitis/042932HB.jpeg</td>\n",
              "      <td>3</td>\n",
              "      <td>2</td>\n",
              "    </tr>\n",
              "    <tr>\n",
              "      <th>5</th>\n",
              "      <td>5</td>\n",
              "      <td>Vitiligo/041357HB.jpeg</td>\n",
              "      <td>5</td>\n",
              "      <td>2</td>\n",
              "    </tr>\n",
              "  </tbody>\n",
              "</table>\n",
              "</div>"
            ],
            "text/plain": [
              "               pred_resnet                                          filenames  \\\n",
              "actual_resnet                                                                   \n",
              "0                        0                                 Acne/033370HB.jpeg   \n",
              "1                        1                    Actinic keratosis/016730HB.jpeg   \n",
              "2                        2  Psoriasis/facial-psoriasis12--WatermarkedWyJXY...   \n",
              "3                        3                Seborrheic dermatitis/042932HB.jpeg   \n",
              "5                        5                             Vitiligo/041357HB.jpeg   \n",
              "\n",
              "               actual_efficientnet  pred_efficientnet  \n",
              "actual_resnet                                          \n",
              "0                                0                  1  \n",
              "1                                1                  2  \n",
              "2                                2                  3  \n",
              "3                                3                  2  \n",
              "5                                5                  2  "
            ]
          },
          "metadata": {
            "tags": []
          },
          "execution_count": 286
        }
      ]
    },
    {
      "cell_type": "code",
      "metadata": {
        "scrolled": true,
        "id": "ae78aa82"
      },
      "source": [
        "download(resnet_correct.groupby('actual_resnet').first()['filenames'].values, '/mnt/c/Users/raluca/Downloads/appendix_pictures/resnet/')"
      ],
      "id": "ae78aa82",
      "execution_count": null,
      "outputs": []
    },
    {
      "cell_type": "code",
      "metadata": {
        "id": "08c89c50"
      },
      "source": [
        "efficientnet_correct = full_df[(full_df['actual_resnet'] != full_df['pred_resnet']) & (full_df['actual_resnet'] == full_df['pred_efficientnet'])]\n",
        "efficientnet_correct"
      ],
      "id": "08c89c50",
      "execution_count": null,
      "outputs": []
    },
    {
      "cell_type": "code",
      "metadata": {
        "id": "6ebfdce6",
        "outputId": "080ffb2e-5d1d-42a5-da43-23c3b8455d58"
      },
      "source": [
        "efficientnet_correct.groupby('actual_resnet').first()"
      ],
      "id": "6ebfdce6",
      "execution_count": null,
      "outputs": [
        {
          "output_type": "execute_result",
          "data": {
            "text/html": [
              "<div>\n",
              "<style scoped>\n",
              "    .dataframe tbody tr th:only-of-type {\n",
              "        vertical-align: middle;\n",
              "    }\n",
              "\n",
              "    .dataframe tbody tr th {\n",
              "        vertical-align: top;\n",
              "    }\n",
              "\n",
              "    .dataframe thead th {\n",
              "        text-align: right;\n",
              "    }\n",
              "</style>\n",
              "<table border=\"1\" class=\"dataframe\">\n",
              "  <thead>\n",
              "    <tr style=\"text-align: right;\">\n",
              "      <th></th>\n",
              "      <th>pred_resnet</th>\n",
              "      <th>filenames</th>\n",
              "      <th>actual_efficientnet</th>\n",
              "      <th>pred_efficientnet</th>\n",
              "    </tr>\n",
              "    <tr>\n",
              "      <th>actual_resnet</th>\n",
              "      <th></th>\n",
              "      <th></th>\n",
              "      <th></th>\n",
              "      <th></th>\n",
              "    </tr>\n",
              "  </thead>\n",
              "  <tbody>\n",
              "    <tr>\n",
              "      <th>0</th>\n",
              "      <td>3</td>\n",
              "      <td>Acne/032439HB.jpeg</td>\n",
              "      <td>0</td>\n",
              "      <td>0</td>\n",
              "    </tr>\n",
              "    <tr>\n",
              "      <th>1</th>\n",
              "      <td>3</td>\n",
              "      <td>Actinic keratosis/005102HB.jpeg</td>\n",
              "      <td>1</td>\n",
              "      <td>1</td>\n",
              "    </tr>\n",
              "    <tr>\n",
              "      <th>2</th>\n",
              "      <td>3</td>\n",
              "      <td>Psoriasis/044567HB.jpeg</td>\n",
              "      <td>2</td>\n",
              "      <td>2</td>\n",
              "    </tr>\n",
              "    <tr>\n",
              "      <th>3</th>\n",
              "      <td>2</td>\n",
              "      <td>Seborrheic dermatitis/043023HB.jpeg</td>\n",
              "      <td>3</td>\n",
              "      <td>3</td>\n",
              "    </tr>\n",
              "    <tr>\n",
              "      <th>4</th>\n",
              "      <td>2</td>\n",
              "      <td>Viral warts/10427-DSC03079.jpeg</td>\n",
              "      <td>4</td>\n",
              "      <td>4</td>\n",
              "    </tr>\n",
              "  </tbody>\n",
              "</table>\n",
              "</div>"
            ],
            "text/plain": [
              "               pred_resnet                            filenames  \\\n",
              "actual_resnet                                                     \n",
              "0                        3                   Acne/032439HB.jpeg   \n",
              "1                        3      Actinic keratosis/005102HB.jpeg   \n",
              "2                        3              Psoriasis/044567HB.jpeg   \n",
              "3                        2  Seborrheic dermatitis/043023HB.jpeg   \n",
              "4                        2      Viral warts/10427-DSC03079.jpeg   \n",
              "\n",
              "               actual_efficientnet  pred_efficientnet  \n",
              "actual_resnet                                          \n",
              "0                                0                  0  \n",
              "1                                1                  1  \n",
              "2                                2                  2  \n",
              "3                                3                  3  \n",
              "4                                4                  4  "
            ]
          },
          "metadata": {
            "tags": []
          },
          "execution_count": 289
        }
      ]
    },
    {
      "cell_type": "code",
      "metadata": {
        "scrolled": true,
        "id": "33f99121"
      },
      "source": [
        "download(efficientnet_correct.groupby('actual_resnet').first()['filenames'].values, '/mnt/c/Users/raluca/Downloads/appendix_pictures/efficientnet/')"
      ],
      "id": "33f99121",
      "execution_count": null,
      "outputs": []
    },
    {
      "cell_type": "code",
      "metadata": {
        "scrolled": true,
        "id": "0478dc26",
        "outputId": "26309dc5-c26d-4d81-9f18-5f0ae19531a6"
      },
      "source": [
        "none_correct = full_df[(full_df['actual_resnet'] != full_df['pred_resnet']) & (full_df['actual_resnet'] != full_df['pred_efficientnet'])]\n",
        "none_correct"
      ],
      "id": "0478dc26",
      "execution_count": null,
      "outputs": [
        {
          "output_type": "execute_result",
          "data": {
            "text/html": [
              "<div>\n",
              "<style scoped>\n",
              "    .dataframe tbody tr th:only-of-type {\n",
              "        vertical-align: middle;\n",
              "    }\n",
              "\n",
              "    .dataframe tbody tr th {\n",
              "        vertical-align: top;\n",
              "    }\n",
              "\n",
              "    .dataframe thead th {\n",
              "        text-align: right;\n",
              "    }\n",
              "</style>\n",
              "<table border=\"1\" class=\"dataframe\">\n",
              "  <thead>\n",
              "    <tr style=\"text-align: right;\">\n",
              "      <th></th>\n",
              "      <th>actual_resnet</th>\n",
              "      <th>pred_resnet</th>\n",
              "      <th>filenames</th>\n",
              "      <th>actual_efficientnet</th>\n",
              "      <th>pred_efficientnet</th>\n",
              "    </tr>\n",
              "  </thead>\n",
              "  <tbody>\n",
              "    <tr>\n",
              "      <th>3</th>\n",
              "      <td>0</td>\n",
              "      <td>5</td>\n",
              "      <td>Acne/032720HB.jpeg</td>\n",
              "      <td>0</td>\n",
              "      <td>2</td>\n",
              "    </tr>\n",
              "    <tr>\n",
              "      <th>10</th>\n",
              "      <td>0</td>\n",
              "      <td>1</td>\n",
              "      <td>Acne/033353HB.jpeg</td>\n",
              "      <td>0</td>\n",
              "      <td>2</td>\n",
              "    </tr>\n",
              "    <tr>\n",
              "      <th>15</th>\n",
              "      <td>0</td>\n",
              "      <td>2</td>\n",
              "      <td>Acne/033751HB.jpeg</td>\n",
              "      <td>0</td>\n",
              "      <td>2</td>\n",
              "    </tr>\n",
              "    <tr>\n",
              "      <th>19</th>\n",
              "      <td>0</td>\n",
              "      <td>2</td>\n",
              "      <td>Acne/033877HB.jpeg</td>\n",
              "      <td>0</td>\n",
              "      <td>2</td>\n",
              "    </tr>\n",
              "    <tr>\n",
              "      <th>20</th>\n",
              "      <td>0</td>\n",
              "      <td>2</td>\n",
              "      <td>Acne/033899HB.jpeg</td>\n",
              "      <td>0</td>\n",
              "      <td>2</td>\n",
              "    </tr>\n",
              "    <tr>\n",
              "      <th>...</th>\n",
              "      <td>...</td>\n",
              "      <td>...</td>\n",
              "      <td>...</td>\n",
              "      <td>...</td>\n",
              "      <td>...</td>\n",
              "    </tr>\n",
              "    <tr>\n",
              "      <th>561</th>\n",
              "      <td>5</td>\n",
              "      <td>4</td>\n",
              "      <td>Vitiligo/vitiligo-66--WatermarkedWyJXYXRlcm1hc...</td>\n",
              "      <td>5</td>\n",
              "      <td>4</td>\n",
              "    </tr>\n",
              "    <tr>\n",
              "      <th>562</th>\n",
              "      <td>5</td>\n",
              "      <td>0</td>\n",
              "      <td>Vitiligo/vitiligo1--WatermarkedWyJXYXRlcm1hcmt...</td>\n",
              "      <td>5</td>\n",
              "      <td>2</td>\n",
              "    </tr>\n",
              "    <tr>\n",
              "      <th>563</th>\n",
              "      <td>5</td>\n",
              "      <td>4</td>\n",
              "      <td>Vitiligo/vitiligo2--WatermarkedWyJXYXRlcm1hcmt...</td>\n",
              "      <td>5</td>\n",
              "      <td>4</td>\n",
              "    </tr>\n",
              "    <tr>\n",
              "      <th>564</th>\n",
              "      <td>5</td>\n",
              "      <td>2</td>\n",
              "      <td>Vitiligo/vitiligo3--WatermarkedWyJXYXRlcm1hcmt...</td>\n",
              "      <td>5</td>\n",
              "      <td>2</td>\n",
              "    </tr>\n",
              "    <tr>\n",
              "      <th>565</th>\n",
              "      <td>5</td>\n",
              "      <td>2</td>\n",
              "      <td>Vitiligo/vitiligo4--WatermarkedWyJXYXRlcm1hcmt...</td>\n",
              "      <td>5</td>\n",
              "      <td>4</td>\n",
              "    </tr>\n",
              "  </tbody>\n",
              "</table>\n",
              "<p>260 rows × 5 columns</p>\n",
              "</div>"
            ],
            "text/plain": [
              "     actual_resnet  pred_resnet  \\\n",
              "3                0            5   \n",
              "10               0            1   \n",
              "15               0            2   \n",
              "19               0            2   \n",
              "20               0            2   \n",
              "..             ...          ...   \n",
              "561              5            4   \n",
              "562              5            0   \n",
              "563              5            4   \n",
              "564              5            2   \n",
              "565              5            2   \n",
              "\n",
              "                                             filenames  actual_efficientnet  \\\n",
              "3                                   Acne/032720HB.jpeg                    0   \n",
              "10                                  Acne/033353HB.jpeg                    0   \n",
              "15                                  Acne/033751HB.jpeg                    0   \n",
              "19                                  Acne/033877HB.jpeg                    0   \n",
              "20                                  Acne/033899HB.jpeg                    0   \n",
              "..                                                 ...                  ...   \n",
              "561  Vitiligo/vitiligo-66--WatermarkedWyJXYXRlcm1hc...                    5   \n",
              "562  Vitiligo/vitiligo1--WatermarkedWyJXYXRlcm1hcmt...                    5   \n",
              "563  Vitiligo/vitiligo2--WatermarkedWyJXYXRlcm1hcmt...                    5   \n",
              "564  Vitiligo/vitiligo3--WatermarkedWyJXYXRlcm1hcmt...                    5   \n",
              "565  Vitiligo/vitiligo4--WatermarkedWyJXYXRlcm1hcmt...                    5   \n",
              "\n",
              "     pred_efficientnet  \n",
              "3                    2  \n",
              "10                   2  \n",
              "15                   2  \n",
              "19                   2  \n",
              "20                   2  \n",
              "..                 ...  \n",
              "561                  4  \n",
              "562                  2  \n",
              "563                  4  \n",
              "564                  2  \n",
              "565                  4  \n",
              "\n",
              "[260 rows x 5 columns]"
            ]
          },
          "metadata": {
            "tags": []
          },
          "execution_count": 291
        }
      ]
    },
    {
      "cell_type": "code",
      "metadata": {
        "id": "67167db0",
        "outputId": "472eb1f1-8d1d-4718-aa97-87a8fa73544b"
      },
      "source": [
        "none_correct.groupby('actual_resnet').first()"
      ],
      "id": "67167db0",
      "execution_count": null,
      "outputs": [
        {
          "output_type": "execute_result",
          "data": {
            "text/html": [
              "<div>\n",
              "<style scoped>\n",
              "    .dataframe tbody tr th:only-of-type {\n",
              "        vertical-align: middle;\n",
              "    }\n",
              "\n",
              "    .dataframe tbody tr th {\n",
              "        vertical-align: top;\n",
              "    }\n",
              "\n",
              "    .dataframe thead th {\n",
              "        text-align: right;\n",
              "    }\n",
              "</style>\n",
              "<table border=\"1\" class=\"dataframe\">\n",
              "  <thead>\n",
              "    <tr style=\"text-align: right;\">\n",
              "      <th></th>\n",
              "      <th>pred_resnet</th>\n",
              "      <th>filenames</th>\n",
              "      <th>actual_efficientnet</th>\n",
              "      <th>pred_efficientnet</th>\n",
              "    </tr>\n",
              "    <tr>\n",
              "      <th>actual_resnet</th>\n",
              "      <th></th>\n",
              "      <th></th>\n",
              "      <th></th>\n",
              "      <th></th>\n",
              "    </tr>\n",
              "  </thead>\n",
              "  <tbody>\n",
              "    <tr>\n",
              "      <th>0</th>\n",
              "      <td>5</td>\n",
              "      <td>Acne/032720HB.jpeg</td>\n",
              "      <td>0</td>\n",
              "      <td>2</td>\n",
              "    </tr>\n",
              "    <tr>\n",
              "      <th>1</th>\n",
              "      <td>3</td>\n",
              "      <td>Actinic keratosis/000498HB.jpeg</td>\n",
              "      <td>1</td>\n",
              "      <td>2</td>\n",
              "    </tr>\n",
              "    <tr>\n",
              "      <th>2</th>\n",
              "      <td>3</td>\n",
              "      <td>Psoriasis/10146-Psoriasis-202.jpeg</td>\n",
              "      <td>2</td>\n",
              "      <td>0</td>\n",
              "    </tr>\n",
              "    <tr>\n",
              "      <th>3</th>\n",
              "      <td>1</td>\n",
              "      <td>Seborrheic dermatitis/042964HB.jpeg</td>\n",
              "      <td>3</td>\n",
              "      <td>2</td>\n",
              "    </tr>\n",
              "    <tr>\n",
              "      <th>4</th>\n",
              "      <td>5</td>\n",
              "      <td>Viral warts/041854VB.jpeg</td>\n",
              "      <td>4</td>\n",
              "      <td>3</td>\n",
              "    </tr>\n",
              "    <tr>\n",
              "      <th>5</th>\n",
              "      <td>1</td>\n",
              "      <td>Vitiligo/041355HB.jpeg</td>\n",
              "      <td>5</td>\n",
              "      <td>2</td>\n",
              "    </tr>\n",
              "  </tbody>\n",
              "</table>\n",
              "</div>"
            ],
            "text/plain": [
              "               pred_resnet                            filenames  \\\n",
              "actual_resnet                                                     \n",
              "0                        5                   Acne/032720HB.jpeg   \n",
              "1                        3      Actinic keratosis/000498HB.jpeg   \n",
              "2                        3   Psoriasis/10146-Psoriasis-202.jpeg   \n",
              "3                        1  Seborrheic dermatitis/042964HB.jpeg   \n",
              "4                        5            Viral warts/041854VB.jpeg   \n",
              "5                        1               Vitiligo/041355HB.jpeg   \n",
              "\n",
              "               actual_efficientnet  pred_efficientnet  \n",
              "actual_resnet                                          \n",
              "0                                0                  2  \n",
              "1                                1                  2  \n",
              "2                                2                  0  \n",
              "3                                3                  2  \n",
              "4                                4                  3  \n",
              "5                                5                  2  "
            ]
          },
          "metadata": {
            "tags": []
          },
          "execution_count": 292
        }
      ]
    },
    {
      "cell_type": "code",
      "metadata": {
        "scrolled": true,
        "id": "210485ed"
      },
      "source": [
        "download(none_correct.groupby('actual_resnet').first()['filenames'].values, '/mnt/c/Users/raluca/Downloads/appendix_pictures/none/')"
      ],
      "id": "210485ed",
      "execution_count": null,
      "outputs": []
    },
    {
      "cell_type": "code",
      "metadata": {
        "id": "4fbb169b"
      },
      "source": [
        "import matplotlib.pyplot as plt\n",
        "import matplotlib.cm as cm \n",
        "from PIL import Image\n",
        "import numpy as np\n",
        "from pathlib import Path"
      ],
      "id": "4fbb169b",
      "execution_count": null,
      "outputs": []
    },
    {
      "cell_type": "code",
      "metadata": {
        "id": "6f13a6bd"
      },
      "source": [
        "def derm_masks_overlay(image_path, masks_paths, alpha=0.4):\n",
        "    image = Image.open(image_path).convert(\"RGBA\")\n",
        "    cm = plt.get_cmap('jet')\n",
        "    union_mask = np.zeros((300, 400))\n",
        "    for mask_path in masks_paths:\n",
        "        mask = Image.open(mask_path).resize((400, 300))\n",
        "        union_mask = union_mask + mask\n",
        "    union_mask = union_mask * (1 / (union_mask.max()))\n",
        "    union_mask = cm(union_mask)\n",
        "    union_mask = Image.fromarray(np.uint8(union_mask * 255)).convert('RGBA')\n",
        "    union_mask.putalpha(int(alpha * 255))\n",
        "    # Superimpose the heatmap on original image\n",
        "    image.paste(union_mask, (0, 0), union_mask)\n",
        "    return image"
      ],
      "id": "6f13a6bd",
      "execution_count": null,
      "outputs": []
    },
    {
      "cell_type": "code",
      "metadata": {
        "id": "95911000"
      },
      "source": [
        "import glob"
      ],
      "id": "95911000",
      "execution_count": null,
      "outputs": []
    },
    {
      "cell_type": "code",
      "metadata": {
        "id": "64150b97"
      },
      "source": [
        "images_path = Path('/mnt/c/Users/raluca/Downloads/appendix_pictures/both/')\n",
        "\n",
        "images = both_correct.groupby('actual_resnet').first()['filenames'].values\n",
        "fig, axs = plt.subplots(len(images), 4, figsize=(15, 15))\n",
        "fig.tight_layout()\n",
        "\n",
        "for idx, image in enumerate(images):\n",
        "    image_name = image.split('/')[1].replace('.jpeg', '')\n",
        "    print(image_name)\n",
        "    masks_paths = glob.glob(str(images_path) + \"/\" + image_name + \"_*\")\n",
        "    efficientnet_gradcam_path = glob.glob(str(images_path / 'efficientnet') + \"/\" + image_name + \"_*\")[0]\n",
        "    resnet_gradcam_path = glob.glob(str(images_path / 'resnet') + \"/\" + image_name + \"_*\")[0]\n",
        "    derm_mask = derm_masks_overlay(images_path / (image_name + \".jpeg\"), masks_paths)\n",
        "    \n",
        "    axs[idx, 0].imshow(Image.open(images_path / (image_name + '.jpeg')))\n",
        "    axs[idx, 1].imshow(derm_mask)\n",
        "    axs[idx, 2].imshow(Image.open(efficientnet_gradcam_path))\n",
        "    axs[idx, 3].imshow(Image.open(resnet_gradcam_path))\n",
        "\n",
        "\n",
        "for ax in axs.flat:\n",
        "    ax.set(xticks=[], yticks=[])\n",
        "    \n",
        "xs = ['Image', 'Dermatologist map', 'EfficientNet GradCAM', 'ResNet GradCAM']\n",
        "for idx, ax in enumerate(axs[0, :]):\n",
        "    ax.set(xlabel=xs[idx])\n",
        "    ax.xaxis.set_label_position('top') \n",
        "    \n",
        "ys = ['Acne', 'Actinic keratosis', 'Psoriasis', 'Seborrheic dermatitis', 'Vitiligo']\n",
        "for idx, ax in enumerate(axs[:, 0]):\n",
        "    ax.set(ylabel=ys[idx])\n",
        "\n",
        "fig.savefig('both.png')"
      ],
      "id": "64150b97",
      "execution_count": null,
      "outputs": []
    },
    {
      "cell_type": "code",
      "metadata": {
        "scrolled": false,
        "id": "e2e4bcf8"
      },
      "source": [
        "images_path = Path('/mnt/c/Users/raluca/Downloads/appendix_pictures/none/')\n",
        "\n",
        "images = none_correct.groupby('actual_resnet').first()['filenames'].values\n",
        "fig, axs = plt.subplots(len(images), 4, figsize=(15, 15))\n",
        "fig.tight_layout()\n",
        "\n",
        "for idx, image in enumerate(images):\n",
        "    image_name = image.split('/')[1].replace('.jpeg', '')\n",
        "    print(image_name)\n",
        "    masks_paths = glob.glob(str(images_path) + \"/\" + image_name + \"_*\")\n",
        "    efficientnet_gradcam_path = glob.glob(str(images_path / 'efficientnet') + \"/\" + image_name + \"_*\")[0]\n",
        "    resnet_gradcam_path = glob.glob(str(images_path / 'resnet') + \"/\" + image_name + \"_*\")[0]\n",
        "    derm_mask = derm_masks_overlay(images_path / (image_name + \".jpeg\"), masks_paths)\n",
        "    \n",
        "    axs[idx, 0].imshow(Image.open(images_path / (image_name + '.jpeg')))\n",
        "    axs[idx, 1].imshow(derm_mask)\n",
        "    axs[idx, 2].imshow(Image.open(efficientnet_gradcam_path))\n",
        "    axs[idx, 3].imshow(Image.open(resnet_gradcam_path))\n",
        "\n",
        "\n",
        "for ax in axs.flat:\n",
        "    ax.set(xticks=[], yticks=[])\n",
        "    \n",
        "xs = ['Image', 'Dermatologist map', 'EfficientNet GradCAM', 'ResNet GradCAM']\n",
        "for idx, ax in enumerate(axs[0, :]):\n",
        "    ax.set(xlabel=xs[idx])\n",
        "    ax.xaxis.set_label_position('top') \n",
        "    \n",
        "ys = ['Acne', 'Actinic keratosis', 'Psoriasis', 'Seborrheic dermatitis', 'Viral warts', 'Vitiligo']\n",
        "for idx, ax in enumerate(axs[:, 0]):\n",
        "    ax.set(ylabel=ys[idx])\n",
        "\n",
        "fig.savefig('none.png')"
      ],
      "id": "e2e4bcf8",
      "execution_count": null,
      "outputs": []
    },
    {
      "cell_type": "code",
      "metadata": {
        "id": "ebfde387"
      },
      "source": [
        "images_path = Path('/mnt/c/Users/raluca/Downloads/appendix_pictures/efficientnet/')\n",
        "\n",
        "images = efficientnet_correct.groupby('actual_resnet').first()['filenames'].values\n",
        "fig, axs = plt.subplots(len(images), 4, figsize=(15, 15))\n",
        "fig.tight_layout()\n",
        "\n",
        "for idx, image in enumerate(images):\n",
        "    image_name = image.split('/')[1].replace('.jpeg', '')\n",
        "    print(image_name)\n",
        "    masks_paths = glob.glob(str(images_path) + \"/\" + image_name + \"_*\")\n",
        "    efficientnet_gradcam_path = glob.glob(str(images_path / 'efficientnet') + \"/\" + image_name + \"_*\")[0]\n",
        "    resnet_gradcam_path = glob.glob(str(images_path / 'resnet') + \"/\" + image_name + \"_*\")[0]\n",
        "    derm_mask = derm_masks_overlay(images_path / (image_name + \".jpeg\"), masks_paths)\n",
        "    \n",
        "    axs[idx, 0].imshow(Image.open(images_path / (image_name + '.jpeg')))\n",
        "    axs[idx, 1].imshow(derm_mask)\n",
        "    axs[idx, 2].imshow(Image.open(efficientnet_gradcam_path))\n",
        "    axs[idx, 3].imshow(Image.open(resnet_gradcam_path))\n",
        "\n",
        "\n",
        "for ax in axs.flat:\n",
        "    ax.set(xticks=[], yticks=[])\n",
        "    \n",
        "xs = ['Image', 'Dermatologist map', 'EfficientNet GradCAM', 'ResNet GradCAM']\n",
        "for idx, ax in enumerate(axs[0, :]):\n",
        "    ax.set(xlabel=xs[idx])\n",
        "    ax.xaxis.set_label_position('top') \n",
        "    \n",
        "ys = ['Acne', 'Actinic keratosis', 'Psoriasis', 'Seborrheic dermatitis', 'Viral warts']\n",
        "for idx, ax in enumerate(axs[:, 0]):\n",
        "    ax.set(ylabel=ys[idx])\n",
        "\n",
        "fig.savefig('efficientnet.png')"
      ],
      "id": "ebfde387",
      "execution_count": null,
      "outputs": []
    },
    {
      "cell_type": "code",
      "metadata": {
        "id": "d84a5d57"
      },
      "source": [
        "images_path = Path('/mnt/c/Users/raluca/Downloads/appendix_pictures/resnet/')\n",
        "\n",
        "images = resnet_correct.groupby('actual_resnet').first()['filenames'].values\n",
        "fig, axs = plt.subplots(len(images), 4, figsize=(15, 15))\n",
        "fig.tight_layout()\n",
        "\n",
        "for idx, image in enumerate(images):\n",
        "    image_name = image.split('/')[1].replace('.jpeg', '')\n",
        "    print(image_name)\n",
        "    masks_paths = glob.glob(str(images_path) + \"/\" + image_name + \"_*\")\n",
        "    efficientnet_gradcam_path = glob.glob(str(images_path / 'efficientnet') + \"/\" + image_name + \"_*\")[0]\n",
        "    resnet_gradcam_path = glob.glob(str(images_path / 'resnet') + \"/\" + image_name + \"_*\")[0]\n",
        "    derm_mask = derm_masks_overlay(images_path / (image_name + \".jpeg\"), masks_paths)\n",
        "    \n",
        "    axs[idx, 0].imshow(Image.open(images_path / (image_name + '.jpeg')))\n",
        "    axs[idx, 1].imshow(derm_mask)\n",
        "    axs[idx, 2].imshow(Image.open(efficientnet_gradcam_path))\n",
        "    axs[idx, 3].imshow(Image.open(resnet_gradcam_path))\n",
        "\n",
        "\n",
        "for ax in axs.flat:\n",
        "    ax.set(xticks=[], yticks=[])\n",
        "    \n",
        "xs = ['Image', 'Dermatologist map', 'EfficientNet GradCAM', 'ResNet GradCAM']\n",
        "for idx, ax in enumerate(axs[0, :]):\n",
        "    ax.set(xlabel=xs[idx])\n",
        "    ax.xaxis.set_label_position('top') \n",
        "    \n",
        "ys = ['Acne', 'Actinic keratosis', 'Psoriasis', 'Seborrheic dermatitis', 'Vitiligo']\n",
        "for idx, ax in enumerate(axs[:, 0]):\n",
        "    ax.set(ylabel=ys[idx])\n",
        "\n",
        "fig.savefig('resnet.png')"
      ],
      "id": "d84a5d57",
      "execution_count": null,
      "outputs": []
    },
    {
      "cell_type": "code",
      "metadata": {
        "id": "bf3c1a74"
      },
      "source": [
        ""
      ],
      "id": "bf3c1a74",
      "execution_count": null,
      "outputs": []
    }
  ]
}
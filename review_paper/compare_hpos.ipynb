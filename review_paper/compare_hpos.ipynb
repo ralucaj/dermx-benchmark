{
 "cells": [
  {
   "cell_type": "code",
   "execution_count": 1,
   "metadata": {
    "scrolled": true
   },
   "outputs": [],
   "source": [
    "from utils import train_model, unfreeze_layers, get_resnet_model, get_efficientnet_model, validate_model, \\\n",
    "    get_xception_model, get_vgg_model, get_resnetv2_model, get_nasnetmobile_model, get_mobilenetv2_model, \\\n",
    "    get_mobilenetv1_model, get_inception_model, get_inceptionresnet_model, get_densenet_model\n"
   ]
  },
  {
   "cell_type": "code",
   "execution_count": 2,
   "metadata": {},
   "outputs": [
    {
     "name": "stdout",
     "output_type": "stream",
     "text": [
      "total 828\r\n",
      "drwxrwxr-x 12 ubuntu ubuntu   4096 Jan 13 16:06 10e\r\n",
      "drwxrwxr-x 12 ubuntu ubuntu   4096 Jan 13 08:27 25e\r\n",
      "drwxrwxr-x  7 ubuntu ubuntu   4096 Jan 16 08:39 50e\r\n",
      "drwxrwxr-x  8 ubuntu ubuntu   4096 Jan 16 08:39 75e\r\n",
      "drwxrwxr-x  2 ubuntu ubuntu  20480 Feb 17 12:42 densenet-hpo\r\n",
      "drwxrwxr-x 10 ubuntu ubuntu   4096 Jan 18 12:50 dermx\r\n",
      "drwxrwxr-x  5 ubuntu ubuntu   4096 Jan 10 09:27 dermx_masks\r\n",
      "drwxrwxr-x  2 ubuntu ubuntu  77824 Nov 10 04:19 efficientnet-hpo\r\n",
      "drwxrwxr-x 12 ubuntu ubuntu   4096 Jan 16 08:39 final\r\n",
      "drwxrwxr-x  2 ubuntu ubuntu  65536 Nov 14 23:45 inception-hpo\r\n",
      "drwxrwxr-x  2 ubuntu ubuntu  77824 Nov 12 19:24 inceptionresnet-hpo\r\n",
      "drwxrwxr-x  2 ubuntu ubuntu  69632 Nov 16 12:05 mobilenetv1-hpo\r\n",
      "drwxrwxr-x  2 ubuntu ubuntu  73728 Nov 18 08:46 mobilenetv2-hpo\r\n",
      "drwxrwxr-x  2 ubuntu ubuntu  77824 Nov 19 20:39 nasnetmobile-hpo\r\n",
      "drwxrwxr-x  2 ubuntu ubuntu 135168 Nov  8 23:51 resnet-hpo\r\n",
      "drwxrwxr-x  2 ubuntu ubuntu  73728 Nov 21 12:53 resnetv2-hpo\r\n",
      "drwxrwxr-x  2 ubuntu ubuntu  36864 Jul 28  2022 vgg-hpo\r\n",
      "drwxrwxr-x  2 ubuntu ubuntu  73728 Nov 24 22:26 xception-hpo\r\n"
     ]
    }
   ],
   "source": [
    "!ls -l /home/ubuntu/hot-store/"
   ]
  },
  {
   "cell_type": "code",
   "execution_count": 8,
   "metadata": {
    "scrolled": true
   },
   "outputs": [
    {
     "data": {
      "text/html": [
       "<table border=\"1\" class=\"dataframe\">\n",
       "  <thead>\n",
       "    <tr style=\"text-align: right;\">\n",
       "      <th></th>\n",
       "      <th>precision</th>\n",
       "      <th>recall</th>\n",
       "      <th>f1-score</th>\n",
       "      <th>support</th>\n",
       "    </tr>\n",
       "  </thead>\n",
       "  <tbody>\n",
       "    <tr>\n",
       "      <th>densenet121_r20_s0.5_z0.5_b[0.5, 1.5]_lr0.0001_lconv5_block14_concat_preds</th>\n",
       "      <td>0.825683</td>\n",
       "      <td>0.849466</td>\n",
       "      <td>0.831066</td>\n",
       "      <td>641</td>\n",
       "    </tr>\n",
       "    <tr>\n",
       "      <th>densenet121_r10_s0.5_z0.5_b[0.5, 1.5]_lr0.0001_lconv5_block14_concat_preds</th>\n",
       "      <td>0.819482</td>\n",
       "      <td>0.854722</td>\n",
       "      <td>0.830859</td>\n",
       "      <td>641</td>\n",
       "    </tr>\n",
       "    <tr>\n",
       "      <th>densenet121_r20_s0.25_z0.25_b[0.75, 1.25]_lr0.001_lconv5_block14_concat_preds</th>\n",
       "      <td>0.833870</td>\n",
       "      <td>0.828235</td>\n",
       "      <td>0.829945</td>\n",
       "      <td>641</td>\n",
       "    </tr>\n",
       "    <tr>\n",
       "      <th>densenet121_r20_s0.5_z0.5_b[0.75, 1.25]_lr0.0001_lconv5_block14_concat_preds</th>\n",
       "      <td>0.809164</td>\n",
       "      <td>0.860282</td>\n",
       "      <td>0.829913</td>\n",
       "      <td>641</td>\n",
       "    </tr>\n",
       "    <tr>\n",
       "      <th>densenet121_r10_s0.5_z0.5_b[0.5, 1.5]_lr0.0001_lavg_pool_preds</th>\n",
       "      <td>0.817114</td>\n",
       "      <td>0.855623</td>\n",
       "      <td>0.828918</td>\n",
       "      <td>641</td>\n",
       "    </tr>\n",
       "    <tr>\n",
       "      <th>densenet121_r20_s0.5_z0.5_b[0.5, 1.5]_lr0.0001_lavg_pool_preds</th>\n",
       "      <td>0.822522</td>\n",
       "      <td>0.848786</td>\n",
       "      <td>0.827901</td>\n",
       "      <td>641</td>\n",
       "    </tr>\n",
       "    <tr>\n",
       "      <th>densenet121_r20_s0.25_z0.25_b[0.75, 1.25]_lr0.0001_lconv5_block14_concat_preds</th>\n",
       "      <td>0.833550</td>\n",
       "      <td>0.823202</td>\n",
       "      <td>0.827575</td>\n",
       "      <td>641</td>\n",
       "    </tr>\n",
       "    <tr>\n",
       "      <th>densenet121_r10_s0.5_z0.25_b[0.5, 1.5]_lr0.0001_lconv5_block14_concat_preds</th>\n",
       "      <td>0.816858</td>\n",
       "      <td>0.842597</td>\n",
       "      <td>0.827414</td>\n",
       "      <td>641</td>\n",
       "    </tr>\n",
       "    <tr>\n",
       "      <th>densenet121_r10_s0.25_z0.5_b[0.5, 1.5]_lr0.001_lavg_pool_preds</th>\n",
       "      <td>0.812203</td>\n",
       "      <td>0.846176</td>\n",
       "      <td>0.825875</td>\n",
       "      <td>641</td>\n",
       "    </tr>\n",
       "    <tr>\n",
       "      <th>densenet121_r10_s0.5_z0.5_b[0.5, 1.5]_lr0.001_lconv5_block14_concat_preds</th>\n",
       "      <td>0.808395</td>\n",
       "      <td>0.861635</td>\n",
       "      <td>0.825186</td>\n",
       "      <td>641</td>\n",
       "    </tr>\n",
       "  </tbody>\n",
       "</table>"
      ],
      "text/plain": [
       "<IPython.core.display.HTML object>"
      ]
     },
     "metadata": {},
     "output_type": "display_data"
    }
   ],
   "source": [
    "import glob\n",
    "import pandas as pd\n",
    "from pathlib import Path\n",
    "from sklearn.metrics import classification_report\n",
    "from IPython.display import display, HTML\n",
    "\n",
    "import warnings\n",
    "warnings.filterwarnings(\"ignore\")\n",
    "\n",
    "base_paths = [\n",
    "    \"/home/ubuntu/hot-store/densenet-hpo\",\n",
    "#     \"/home/ubuntu/hot-store/resnet-hpo\",\n",
    "#     \"/home/ubuntu/hot-store/efficientnet-hpo\",\n",
    "#     \"/home/ubuntu/hot-store/inceptionresnet-hpo\",\n",
    "#     \"/home/ubuntu/hot-store/inception-hpo\",\n",
    "#     \"/home/ubuntu/hot-store/mobilenetv1-hpo\",\n",
    "#     \"/home/ubuntu/hot-store/mobilenetv2-hpo\",\n",
    "#     \"/home/ubuntu/hot-store/nasnetmobile-hpo\",\n",
    "#     \"/home/ubuntu/hot-store/resnetv2-hpo\",\n",
    "#     \"/home/ubuntu/hot-store/vgg-hpo\",\n",
    "#     \"/home/ubuntu/hot-store/xception-hpo\",\n",
    "]\n",
    "\n",
    "for base_path in base_paths:\n",
    "    model_preds = glob.glob(base_path + \"/*_preds.csv\")\n",
    "    model_comparison_dict = {}\n",
    "\n",
    "    for model_pred in model_preds:\n",
    "        model_preds_df = pd.read_csv(Path(model_pred))\n",
    "        model_comparison_dict[Path(model_pred).stem] = classification_report(\n",
    "            model_preds_df['actual'],\n",
    "            model_preds_df['pred'],\n",
    "            labels=[0, 1, 2, 3, 4, 5],\n",
    "            target_names=['acne', 'actinic_keratosis', 'psoriasis_no_pustular', 'seborrheic_dermatitis', 'vitiligo', 'wart'],\n",
    "            output_dict=True\n",
    "        )['macro avg']\n",
    "\n",
    "    model_comparison_df = pd.DataFrame.from_dict(model_comparison_dict, orient='index')\n",
    "    display(HTML(model_comparison_df.sort_values('f1-score', ascending=False).head(10).to_html()))\n"
   ]
  },
  {
   "cell_type": "markdown",
   "metadata": {},
   "source": []
  }
 ],
 "metadata": {
  "kernelspec": {
   "display_name": "tf2_3",
   "language": "python",
   "name": "tf2_3"
  },
  "language_info": {
   "codemirror_mode": {
    "name": "ipython",
    "version": 3
   },
   "file_extension": ".py",
   "mimetype": "text/x-python",
   "name": "python",
   "nbconvert_exporter": "python",
   "pygments_lexer": "ipython3",
   "version": "3.7.5"
  }
 },
 "nbformat": 4,
 "nbformat_minor": 1
}
